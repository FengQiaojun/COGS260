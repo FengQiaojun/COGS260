{
 "cells": [
  {
   "cell_type": "code",
   "execution_count": 25,
   "metadata": {},
   "outputs": [],
   "source": [
    "import cv2 # tested with 3.1.0 version\n",
    "import numpy as np\n",
    "import matplotlib.pyplot as plt\n",
    "import os\n",
    "%matplotlib inline"
   ]
  },
  {
   "cell_type": "markdown",
   "metadata": {},
   "source": [
    "# 3. Edge Detection"
   ]
  },
  {
   "cell_type": "code",
   "execution_count": 26,
   "metadata": {},
   "outputs": [
    {
     "name": "stdout",
     "output_type": "stream",
     "text": [
      "Accuracy: 0.621913\n"
     ]
    }
   ],
   "source": [
    "from skimage.measure import compare_ssim\n",
    "from evaluate import evaluate\n",
    "# The code returns the accuracy of the edge detector when compared against the ground truth\n",
    "# OUTPUT_FILE_PATH: Path of the image containing the edges obtained using edge detector\n",
    "# GROUND_TRUTH_PATH: Path of the corresponding ground truth image (present in the folder data/ground_truth)\n",
    "# An example of how to use the evaluate function is shown as follows:\n",
    "OUTPUT_FILE_PATH = 'data/test.png'\n",
    "GROUND_TRUTH_PATH = 'data/ground_truth/3096.bmp'\n",
    "print ('Accuracy: %f' %(evaluate(OUTPUT_FILE_PATH, GROUND_TRUTH_PATH)))"
   ]
  },
  {
   "cell_type": "code",
   "execution_count": 13,
   "metadata": {},
   "outputs": [],
   "source": [
    "# a function to save result for specific edge detector and report the accuracy\n",
    "def Test_Edge_Detector(func, INPUT_FILE_PATH, OUTPUT_FILE_PATH, GROUND_TRUTH_PATH):\n",
    "    acc = []\n",
    "    for input_image_path in os.listdir(INPUT_FILE_PATH):\n",
    "        input_image_id = input_image_path.split('.')[0]\n",
    "        output_image = func(os.path.join(INPUT_FILE_PATH,input_image_path))\n",
    "        output_image_path = os.path.join(OUTPUT_FILE_PATH,input_image_id+'_'+func.__name__+'.jpg')\n",
    "        cv2.imwrite(output_image_path, output_image)\n",
    "        ground_truth_path = os.path.join(GROUND_TRUTH_PATH,input_image_id+'.bmp')\n",
    "        acc.append(evaluate(output_image_path, ground_truth_path))\n",
    "    return acc"
   ]
  },
  {
   "cell_type": "markdown",
   "metadata": {},
   "source": [
    "## 3.1 Edge Detector 1\n",
    "Sobel\n",
    "\n",
    "Refer to tutorial http://opencv-python-tutroals.readthedocs.io/en/latest/py_tutorials/py_imgproc/py_gradients/py_gradients.html#gradients"
   ]
  },
  {
   "cell_type": "code",
   "execution_count": 50,
   "metadata": {
    "scrolled": true
   },
   "outputs": [
    {
     "name": "stdout",
     "output_type": "stream",
     "text": [
      "Sobel: Average accuracy of test images: 0.358158\n",
      "Sobel_pos: Average accuracy of test images: 0.468546\n"
     ]
    }
   ],
   "source": [
    "### Sobel\n",
    "### Fill your code here\n",
    "### Using the build-in funciton of OpenCV\n",
    "def Sobel(IMAGE_PATH):\n",
    "    img = cv2.imread(IMAGE_PATH,0)\n",
    "    # Output dtype = cv2.CV_64F. Then take its absolute and convert to cv2.CV_8U\n",
    "    Sobel64f_x = cv2.Sobel(img,cv2.CV_64F,1,0,ksize=3)\n",
    "    Sobel64f_y = cv2.Sobel(img,cv2.CV_64F,0,1,ksize=3)\n",
    "    Sobel_8u = np.uint8(np.sqrt((Sobel64f_x).astype(int)**2+(Sobel64f_y).astype(int)**2))\n",
    "    return Sobel_8u\n",
    "\n",
    "### Report the accuracy obtained\n",
    "acc = Test_Edge_Detector(Sobel, 'data/img', 'data/edge/Sobel', 'data/ground_truth')\n",
    "print('Sobel: Average accuracy of test images: %f'%np.mean(acc))\n",
    "\n",
    "### Report any improvements you have tried\n",
    "\n",
    "### Tried with Scharr operator(but not any improvement)\n",
    "'''\n",
    "def Scharr(IMAGE_PATH):\n",
    "    img = cv2.imread(IMAGE_PATH,0)\n",
    "    # Output dtype = cv2.CV_64F. Then take its absolute and convert to cv2.CV_8U\n",
    "    Scharr64f_x = cv2.Scharr(img,cv2.CV_64F,1,0)\n",
    "    Scharr64f_y = cv2.Scharr(img,cv2.CV_64F,0,1)\n",
    "    Scharr_8u = np.uint8(np.sqrt((Scharr64f_x).astype(int)**2+(Scharr64f_y).astype(int)**2))\n",
    "    return Scharr_8u\n",
    "'''\n",
    "### Tried with Sobel operator only positive(slight improvement)\n",
    "def Sobel_pos(IMAGE_PATH):\n",
    "    img = cv2.imread(IMAGE_PATH,0)\n",
    "    Sobel8u_x = cv2.Sobel(img,cv2.CV_8U,1,0,ksize=3)\n",
    "    Sobel8u_y = cv2.Sobel(img,cv2.CV_8U,0,1,ksize=3)\n",
    "    Sobel_8u = np.uint8(np.sqrt((Sobel8u_x).astype(int)**2+(Sobel8u_y).astype(int)**2))\n",
    "    return Sobel_8u\n",
    "\n",
    "acc = Test_Edge_Detector(Sobel_pos, 'data/img', 'data/edge/Sobel', 'data/ground_truth')\n",
    "print('Sobel_pos: Average accuracy of test images: %f'%np.mean(acc))"
   ]
  },
  {
   "cell_type": "markdown",
   "metadata": {},
   "source": [
    "## 3.2 Edge Detector 2\n",
    "Canny\n",
    "\n",
    "Refer to tutorial http://opencv-python-tutroals.readthedocs.io/en/latest/py_tutorials/py_imgproc/py_canny/py_canny.html"
   ]
  },
  {
   "cell_type": "code",
   "execution_count": 59,
   "metadata": {
    "scrolled": true
   },
   "outputs": [
    {
     "name": "stdout",
     "output_type": "stream",
     "text": [
      "Canny: Average accuracy of test images: 0.605585\n"
     ]
    }
   ],
   "source": [
    "### Canny\n",
    "### Fill your code here\n",
    "### Using the build-in funciton of OpenCV\n",
    "\n",
    "def Canny(IMAGE_PATH,MIN_THRES=200,MAX_THRES=255):\n",
    "    img = cv2.imread(IMAGE_PATH,0)\n",
    "    Canny_edge = cv2.Canny(img,MIN_THRES,MAX_THRES,3,3,True)\n",
    "    return Canny_edge\n",
    "\n",
    "### Report the accuracy obtained\n",
    "acc = Test_Edge_Detector(Canny, 'data/img', 'data/edge/Canny', 'data/ground_truth')\n",
    "print('Canny: Average accuracy of test images: %f'%np.mean(acc))\n",
    "\n",
    "### Report any improvements you have tried"
   ]
  },
  {
   "cell_type": "markdown",
   "metadata": {},
   "source": [
    "## 3.3 Edge Detector 3\n",
    "gPb\n",
    "\n",
    "Refer to source coded provided by https://www2.eecs.berkeley.edu/Research/Projects/CS/vision/grouping/resources.html"
   ]
  },
  {
   "cell_type": "code",
   "execution_count": 30,
   "metadata": {
    "scrolled": true
   },
   "outputs": [
    {
     "name": "stdout",
     "output_type": "stream",
     "text": [
      "gPb: Average accuracy of test images: 0.746033\n"
     ]
    }
   ],
   "source": [
    "### Fill your code here\n",
    "import matlab.engine\n",
    "\n",
    "def gPb(IMAGE_PATH,k=0.3):\n",
    "    eng = matlab.engine.start_matlab()\n",
    "    eng.addpath(r'../ref/BSR/grouping/',nargout=0)\n",
    "    eng.addpath(r'../ref/BSR/grouping/lib/',nargout=0)\n",
    "    edge = eng.gPb(IMAGE_PATH,k)\n",
    "    edge = np.array(edge)\n",
    "    eng.quit()  \n",
    "    return edge\n",
    "\n",
    "### Report the accuracy obtained\n",
    "acc = Test_Edge_Detector(gPb, 'data/img', 'data/edge/gPb', 'data/ground_truth')\n",
    "print('gPb: Average accuracy of test images: %f'%np.mean(acc))\n",
    "\n",
    "### Report any improvements you have tried"
   ]
  },
  {
   "cell_type": "markdown",
   "metadata": {},
   "source": [
    "## 3.4 Edge Detector 4\n",
    "Sketch Token\n",
    "\n",
    "Refer to source coded provided by https://github.com/gitlim/SketchTokens"
   ]
  },
  {
   "cell_type": "code",
   "execution_count": 38,
   "metadata": {},
   "outputs": [
    {
     "name": "stdout",
     "output_type": "stream",
     "text": [
      "Sketch Token: Average accuracy of test images: 0.521270\n"
     ]
    }
   ],
   "source": [
    "### Fill your code here\n",
    "import matlab.engine\n",
    "\n",
    "def SketchToken(IMAGE_PATH):\n",
    "    eng = matlab.engine.start_matlab()\n",
    "    eng.addpath(r'../ref/SketchTokens/',nargout=0)\n",
    "    eng.addpath(r'../ref/SketchTokens/toolbox/channels/',nargout=0)\n",
    "    edge = eng.SketchToken(IMAGE_PATH)\n",
    "    edge = np.array(edge)\n",
    "    eng.quit()  \n",
    "    return edge\n",
    "\n",
    "### Report the accuracy obtained\n",
    "acc = Test_Edge_Detector(SketchToken, 'data/img', 'data/edge/SketchToken', 'data/ground_truth')\n",
    "print('Sketch Token: Average accuracy of test images: %f'%np.mean(acc))\n",
    "\n",
    "### Report any improvements you have tried"
   ]
  },
  {
   "cell_type": "markdown",
   "metadata": {},
   "source": [
    "## 3.5 Edge Detector 5\n",
    "Structured Forests\n",
    "\n",
    "Refer to source coded provided by https://github.com/ArtanisCV/StructuredForests"
   ]
  },
  {
   "cell_type": "code",
   "execution_count": 39,
   "metadata": {},
   "outputs": [
    {
     "name": "stderr",
     "output_type": "stream",
     "text": [
      "/home/qiaojun/.conda/envs/py2/lib/python2.7/site-packages/skimage/util/dtype.py:122: UserWarning: Possible precision loss when converting from float64 to uint8\n",
      "  .format(dtypeobj_in, dtypeobj_out))\n"
     ]
    },
    {
     "name": "stdout",
     "output_type": "stream",
     "text": [
      "Structured Forests: Average accuracy of test images: 0.758131\n"
     ]
    }
   ],
   "source": [
    "### Fill your code here\n",
    "import sys\n",
    "import os\n",
    "os.chdir('../ref/StructuredForests/')\n",
    "sys.path.append(os.getcwd())\n",
    "from StructuredForests import *\n",
    "\n",
    "def StructuredForests(IMAGE_PATH):\n",
    "    edge = edge_predict(IMAGE_PATH) \n",
    "    return edge\n",
    "\n",
    "### Report the accuracy obtained\n",
    "acc = Test_Edge_Detector(StructuredForests, '../../Project1/data/img', '../../Project1/data/edge/StructuredForests', '../../Project1/data/ground_truth')\n",
    "print('Structured Forests: Average accuracy of test images: %f'%np.mean(acc))\n",
    "os.chdir('../../Project1/')\n",
    "\n",
    "### Report any improvements you have tried"
   ]
  },
  {
   "cell_type": "code",
   "execution_count": null,
   "metadata": {},
   "outputs": [],
   "source": []
  },
  {
   "cell_type": "code",
   "execution_count": null,
   "metadata": {},
   "outputs": [],
   "source": []
  }
 ],
 "metadata": {
  "kernelspec": {
   "display_name": "Python 2",
   "language": "python",
   "name": "python2"
  },
  "language_info": {
   "codemirror_mode": {
    "name": "ipython",
    "version": 2
   },
   "file_extension": ".py",
   "mimetype": "text/x-python",
   "name": "python",
   "nbconvert_exporter": "python",
   "pygments_lexer": "ipython2",
   "version": "2.7.14"
  }
 },
 "nbformat": 4,
 "nbformat_minor": 1
}
