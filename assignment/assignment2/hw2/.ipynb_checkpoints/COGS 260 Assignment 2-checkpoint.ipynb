{
 "cells": [
  {
   "cell_type": "markdown",
   "metadata": {
    "collapsed": true
   },
   "source": [
    "## Introduction:\n",
    "You can use this ipython notebook as a template for the rest of the homework."
   ]
  },
  {
   "cell_type": "markdown",
   "metadata": {},
   "source": [
    "### 0. Basic Useful Setups & Read MNIST using Keras"
   ]
  },
  {
   "cell_type": "code",
   "execution_count": 1,
   "metadata": {},
   "outputs": [
    {
     "name": "stderr",
     "output_type": "stream",
     "text": [
      "/media/qiaojun/disk/Qiaojun/virtualenv/tensorflow/lib/python3.5/site-packages/h5py/__init__.py:36: FutureWarning: Conversion of the second argument of issubdtype from `float` to `np.floating` is deprecated. In future, it will be treated as `np.float64 == np.dtype(float).type`.\n",
      "  from ._conv import register_converters as _register_converters\n",
      "Using TensorFlow backend.\n"
     ]
    },
    {
     "name": "stdout",
     "output_type": "stream",
     "text": [
      "x_train shape: (60000, 28, 28, 1)\n",
      "60000 train samples\n",
      "10000 test samples\n"
     ]
    }
   ],
   "source": [
    "### Basic setups\n",
    "import cv2\n",
    "import numpy as np\n",
    "import matplotlib.pyplot as plt\n",
    "import sys\n",
    "sys.path.append('./models/')\n",
    "# Enable automatic reload of libraries\n",
    "%load_ext autoreload\n",
    "# All modules are reloaded before every comment\n",
    "%autoreload 2\n",
    "import keras\n",
    "from utils import load_mnist\n",
    "(x_train, y_train), (x_test, y_test) = load_mnist()\n",
    "from keras.utils.vis_utils import plot_model # can be used to plot the model into a png file."
   ]
  },
  {
   "cell_type": "code",
   "execution_count": 2,
   "metadata": {},
   "outputs": [],
   "source": [
    "#x_train_1 = np.reshape(x_train,(-1,28*28))\n",
    "y_train_1 = np.where(y_train==1)[1]\n",
    "#x_test_1 = np.reshape(x_test,(-1,28*28))\n",
    "y_test_1 = np.where(y_test==1)[1]\n",
    "x_train = np.squeeze(np.stack((x_train,)*3,axis = 3), axis=-1)\n",
    "x_test = np.squeeze(np.stack((x_test,)*3,axis = 3), axis=-1)"
   ]
  },
  {
   "cell_type": "code",
   "execution_count": 3,
   "metadata": {},
   "outputs": [],
   "source": [
    "x_train_VGG = np.zeros((60000,224,224,3),dtype = np.float32)\n",
    "for index in range(60000):\n",
    "    x_train_VGG[index,:,:,:] = cv2.resize(x_train[index,:,:,:],(224,224))\n",
    "\n",
    "x_test_VGG = np.zeros((10000,224,224,3),dtype = np.float32)\n",
    "for index in range(10000):\n",
    "    x_test_VGG[index,:,:,:] = cv2.resize(x_test[index,:,:,:],(224,224))\n"
   ]
  },
  {
   "cell_type": "markdown",
   "metadata": {},
   "source": [
    "### 1. Convolutional Neural Network"
   ]
  },
  {
   "cell_type": "markdown",
   "metadata": {},
   "source": [
    "### 1.1. LetNet Model"
   ]
  },
  {
   "cell_type": "code",
   "execution_count": 3,
   "metadata": {},
   "outputs": [
    {
     "name": "stdout",
     "output_type": "stream",
     "text": [
      "_________________________________________________________________\n",
      "Layer (type)                 Output Shape              Param #   \n",
      "=================================================================\n",
      "input_1 (InputLayer)         (None, 28, 28, 1)         0         \n",
      "_________________________________________________________________\n",
      "block1_conv1 (Conv2D)        (None, 28, 28, 20)        520       \n",
      "_________________________________________________________________\n",
      "block1_pool (MaxPooling2D)   (None, 14, 14, 20)        0         \n",
      "_________________________________________________________________\n",
      "block2_conv2 (Conv2D)        (None, 14, 14, 50)        25050     \n",
      "_________________________________________________________________\n",
      "block2_pool (MaxPooling2D)   (None, 7, 7, 50)          0         \n",
      "_________________________________________________________________\n",
      "flatten (Flatten)            (None, 2450)              0         \n",
      "_________________________________________________________________\n",
      "fc1 (Dense)                  (None, 500)               1225500   \n",
      "_________________________________________________________________\n",
      "predications (Dense)         (None, 10)                5010      \n",
      "=================================================================\n",
      "Total params: 1,256,080\n",
      "Trainable params: 1,256,080\n",
      "Non-trainable params: 0\n",
      "_________________________________________________________________\n"
     ]
    }
   ],
   "source": [
    "from LeNet import LeNet\n",
    "NUM_CLASSES = 10\n",
    "model = LeNet(num_classes = NUM_CLASSES)\n",
    "model.compile(loss=keras.losses.categorical_crossentropy,\n",
    "              optimizer=keras.optimizers.Adadelta(),\n",
    "              metrics=['accuracy'])\n",
    "# You can save the model by specifying a path\n",
    "# modelPath = ____\n",
    "# model.save(modelPath)\n",
    "\n",
    "# You can also print out the model by typing\n",
    "model.summary()\n",
    "\n",
    "# You can plot the model into a png file and use it in your report.\n",
    "pngModelPath = \"images/LeNet.png\"\n",
    "# plot(model, to_file=pngModelPath, show_shapes=True)\n",
    "plot_model(model, to_file=pngModelPath, show_shapes=True)"
   ]
  },
  {
   "cell_type": "code",
   "execution_count": 4,
   "metadata": {},
   "outputs": [
    {
     "name": "stdout",
     "output_type": "stream",
     "text": [
      "Train on 60000 samples, validate on 10000 samples\n",
      "Epoch 1/12\n",
      "60000/60000 [==============================] - 9s 149us/step - loss: 0.1833 - acc: 0.9444 - val_loss: 0.0517 - val_acc: 0.9832\n",
      "Epoch 2/12\n",
      "60000/60000 [==============================] - 3s 43us/step - loss: 0.0462 - acc: 0.9854 - val_loss: 0.0464 - val_acc: 0.9830\n",
      "Epoch 3/12\n",
      "60000/60000 [==============================] - 3s 44us/step - loss: 0.0307 - acc: 0.9904 - val_loss: 0.0369 - val_acc: 0.9882\n",
      "Epoch 4/12\n",
      "60000/60000 [==============================] - 3s 46us/step - loss: 0.0220 - acc: 0.9932 - val_loss: 0.0245 - val_acc: 0.9916\n",
      "Epoch 5/12\n",
      "60000/60000 [==============================] - 3s 42us/step - loss: 0.0169 - acc: 0.9947 - val_loss: 0.0224 - val_acc: 0.9927\n",
      "Epoch 6/12\n",
      "60000/60000 [==============================] - 3s 45us/step - loss: 0.0120 - acc: 0.9964 - val_loss: 0.0204 - val_acc: 0.9930\n",
      "Epoch 7/12\n",
      "60000/60000 [==============================] - 3s 43us/step - loss: 0.0099 - acc: 0.9969 - val_loss: 0.0200 - val_acc: 0.9944\n",
      "Epoch 8/12\n",
      "60000/60000 [==============================] - 3s 44us/step - loss: 0.0074 - acc: 0.9979 - val_loss: 0.0227 - val_acc: 0.9922\n",
      "Epoch 9/12\n",
      "60000/60000 [==============================] - 3s 44us/step - loss: 0.0055 - acc: 0.9985 - val_loss: 0.0199 - val_acc: 0.9939\n",
      "Epoch 10/12\n",
      "60000/60000 [==============================] - 2s 38us/step - loss: 0.0042 - acc: 0.9987 - val_loss: 0.0276 - val_acc: 0.9927\n",
      "Epoch 11/12\n",
      "60000/60000 [==============================] - 2s 40us/step - loss: 0.0033 - acc: 0.9989 - val_loss: 0.0242 - val_acc: 0.9933\n",
      "Epoch 12/12\n",
      "60000/60000 [==============================] - 3s 44us/step - loss: 0.0026 - acc: 0.9992 - val_loss: 0.0265 - val_acc: 0.9930\n",
      "Test loss: 0.026506232323426637\n",
      "Test accuracy: 0.993\n"
     ]
    }
   ],
   "source": [
    "# train model\n",
    "BATCH_SIZE = 128\n",
    "MAX_EPOCH = 12\n",
    "\n",
    "model.fit(x_train, y_train,\n",
    "          batch_size=BATCH_SIZE,\n",
    "          epochs=MAX_EPOCH,\n",
    "          verbose=1,\n",
    "          validation_data=(x_test, y_test))\n",
    "score = model.evaluate(x_test, y_test, verbose=0)\n",
    "print('Test loss:', score[0])\n",
    "print('Test accuracy:', score[1])"
   ]
  },
  {
   "cell_type": "code",
   "execution_count": 10,
   "metadata": {},
   "outputs": [
    {
     "data": {
      "image/png": "[encoded data removed]",
      "text/plain": [
       "<Figure size 720x432 with 1 Axes>"
      ]
     },
     "metadata": {},
     "output_type": "display_data"
    }
   ],
   "source": [
    "train_loss_LeNet = [0.1833,0.0462,0.0307,0.0220,0.0169,0.0120,0.0099,0.0074,0.0055,0.0042,0.0033,0.0026]\n",
    "val_loss_LeNet = [0.0517,0.0464,0.0369,0.0245,0.0224,0.0204,0.0200,0.0227,0.0199,0.0276,0.0242,0.0265]\n",
    "plt.figure(figsize=(10,6))\n",
    "plt.plot(range(1,len(train_loss_LeNet)+1),train_loss_LeNet)\n",
    "plt.plot(range(1,len(val_loss_LeNet)+1),val_loss_LeNet)\n",
    "plt.legend(['train','val'])\n",
    "plt.title('train/val loss of LeNet')\n",
    "plt.show()"
   ]
  },
  {
   "cell_type": "markdown",
   "metadata": {},
   "source": [
    "### 1.2. VGG16"
   ]
  },
  {
   "cell_type": "code",
   "execution_count": 4,
   "metadata": {},
   "outputs": [
    {
     "name": "stdout",
     "output_type": "stream",
     "text": [
      "_________________________________________________________________\n",
      "Layer (type)                 Output Shape              Param #   \n",
      "=================================================================\n",
      "input_1 (InputLayer)         (None, None, None, 3)     0         \n",
      "_________________________________________________________________\n",
      "block1_conv1 (Conv2D)        (None, None, None, 64)    1792      \n",
      "_________________________________________________________________\n",
      "block1_conv2 (Conv2D)        (None, None, None, 64)    36928     \n",
      "_________________________________________________________________\n",
      "block1_pool (MaxPooling2D)   (None, None, None, 64)    0         \n",
      "_________________________________________________________________\n",
      "block2_conv1 (Conv2D)        (None, None, None, 128)   73856     \n",
      "_________________________________________________________________\n",
      "block2_conv2 (Conv2D)        (None, None, None, 128)   147584    \n",
      "_________________________________________________________________\n",
      "block2_pool (MaxPooling2D)   (None, None, None, 128)   0         \n",
      "_________________________________________________________________\n",
      "block3_conv1 (Conv2D)        (None, None, None, 256)   295168    \n",
      "_________________________________________________________________\n",
      "block3_conv2 (Conv2D)        (None, None, None, 256)   590080    \n",
      "_________________________________________________________________\n",
      "block3_conv3 (Conv2D)        (None, None, None, 256)   590080    \n",
      "_________________________________________________________________\n",
      "block3_pool (MaxPooling2D)   (None, None, None, 256)   0         \n",
      "_________________________________________________________________\n",
      "block4_conv1 (Conv2D)        (None, None, None, 512)   1180160   \n",
      "_________________________________________________________________\n",
      "block4_conv2 (Conv2D)        (None, None, None, 512)   2359808   \n",
      "_________________________________________________________________\n",
      "block4_conv3 (Conv2D)        (None, None, None, 512)   2359808   \n",
      "_________________________________________________________________\n",
      "block4_pool (MaxPooling2D)   (None, None, None, 512)   0         \n",
      "_________________________________________________________________\n",
      "block5_conv1 (Conv2D)        (None, None, None, 512)   2359808   \n",
      "_________________________________________________________________\n",
      "block5_conv2 (Conv2D)        (None, None, None, 512)   2359808   \n",
      "_________________________________________________________________\n",
      "block5_conv3 (Conv2D)        (None, None, None, 512)   2359808   \n",
      "_________________________________________________________________\n",
      "block5_pool (MaxPooling2D)   (None, None, None, 512)   0         \n",
      "_________________________________________________________________\n",
      "global_average_pooling2d_1 ( (None, 512)               0         \n",
      "_________________________________________________________________\n",
      "dense_1 (Dense)              (None, 64)                32832     \n",
      "_________________________________________________________________\n",
      "dense_2 (Dense)              (None, 10)                650       \n",
      "=================================================================\n",
      "Total params: 14,748,170\n",
      "Trainable params: 33,482\n",
      "Non-trainable params: 14,714,688\n",
      "_________________________________________________________________\n"
     ]
    }
   ],
   "source": [
    "# train model\n",
    "BATCH_SIZE = 128\n",
    "MAX_EPOCH = 12\n",
    "\n",
    "from keras.applications.vgg16 import VGG16\n",
    "from keras.preprocessing import image\n",
    "from keras.applications.vgg16 import preprocess_input\n",
    "from keras.models import Model\n",
    "from keras.layers import Dense, GlobalAveragePooling2D\n",
    "import numpy as np\n",
    "\n",
    "# create the base pre-trained model\n",
    "base_model = VGG16(weights='imagenet', include_top=False)\n",
    "\n",
    "# add a global spatial average pooling layer\n",
    "x = base_model.output\n",
    "x = GlobalAveragePooling2D()(x)\n",
    "# let's add a fully-connected layer\n",
    "x = Dense(128, activation='relu')(x)\n",
    "# and a logistic layer -- let's say we have 10 classes\n",
    "predictions = Dense(10, activation='softmax')(x)\n",
    "\n",
    "# this is the model we will train\n",
    "model = Model(inputs=base_model.input, outputs=predictions)\n",
    "\n",
    "# first: train only the top layers (which were randomly initialized)\n",
    "# i.e. freeze all convolutional InceptionV3 layers\n",
    "for layer in base_model.layers:\n",
    "    layer.trainable = False\n",
    "\n",
    "# compile the model (should be done *after* setting layers to non-trainable)\n",
    "# model.compile(optimizer='rmsprop', loss='categorical_crossentropy', metrics=['accuracy'])\n",
    "model.compile(loss=keras.losses.categorical_crossentropy,\n",
    "              optimizer=keras.optimizers.Adadelta(),\n",
    "              metrics=['accuracy'])\n",
    "# You can also print out the model by typing\n",
    "model.summary()\n",
    "\n",
    "# You can plot the model into a png file and use it in your report.\n",
    "#pngModelPath = \"images/VGG16.png\"\n",
    "# plot(model, to_file=pngModelPath, show_shapes=True)\n",
    "#plot_model(model, to_file=pngModelPath, show_shapes=True)"
   ]
  },
  {
   "cell_type": "code",
   "execution_count": 5,
   "metadata": {},
   "outputs": [
    {
     "name": "stdout",
     "output_type": "stream",
     "text": [
      "Train on 60000 samples, validate on 10000 samples\n",
      "Epoch 1/12\n",
      "60000/60000 [==============================] - 667s 11ms/step - loss: 1.0711 - acc: 0.7268 - val_loss: 0.5223 - val_acc: 0.8770\n",
      "Epoch 2/12\n",
      "60000/60000 [==============================] - 693s 12ms/step - loss: 0.3962 - acc: 0.9013 - val_loss: 0.2974 - val_acc: 0.9251\n",
      "Epoch 3/12\n",
      "60000/60000 [==============================] - 865s 14ms/step - loss: 0.2664 - acc: 0.9315 - val_loss: 0.2245 - val_acc: 0.9406\n",
      "Epoch 4/12\n",
      "60000/60000 [==============================] - 823s 14ms/step - loss: 0.2087 - acc: 0.9439 - val_loss: 0.1741 - val_acc: 0.9551\n",
      "Epoch 5/12\n",
      "60000/60000 [==============================] - 931s 16ms/step - loss: 0.1760 - acc: 0.9512 - val_loss: 0.1817 - val_acc: 0.9447\n",
      "Epoch 6/12\n",
      "60000/60000 [==============================] - 843s 14ms/step - loss: 0.1550 - acc: 0.9566 - val_loss: 0.1406 - val_acc: 0.9596\n",
      "Epoch 7/12\n",
      "60000/60000 [==============================] - 940s 16ms/step - loss: 0.1398 - acc: 0.9609 - val_loss: 0.1260 - val_acc: 0.9648\n",
      "Epoch 8/12\n",
      "60000/60000 [==============================] - 845s 14ms/step - loss: 0.1285 - acc: 0.9643 - val_loss: 0.1241 - val_acc: 0.9643\n",
      "Epoch 9/12\n",
      "60000/60000 [==============================] - 946s 16ms/step - loss: 0.1191 - acc: 0.9657 - val_loss: 0.1148 - val_acc: 0.9666\n",
      "Epoch 10/12\n",
      "60000/60000 [==============================] - 854s 14ms/step - loss: 0.1118 - acc: 0.9681 - val_loss: 0.1162 - val_acc: 0.9644\n",
      "Epoch 11/12\n",
      "60000/60000 [==============================] - 821s 14ms/step - loss: 0.1063 - acc: 0.9695 - val_loss: 0.1046 - val_acc: 0.9675\n",
      "Epoch 12/12\n",
      "60000/60000 [==============================] - 709s 12ms/step - loss: 0.1005 - acc: 0.9704 - val_loss: 0.1298 - val_acc: 0.9571\n",
      "Test loss: 0.12977995154857636\n",
      "Test accuracy: 0.9571\n"
     ]
    }
   ],
   "source": [
    "model.fit(x_train_VGG, y_train,\n",
    "          batch_size=BATCH_SIZE,\n",
    "          epochs=MAX_EPOCH,\n",
    "          verbose=1,\n",
    "          validation_data=(x_test_VGG, y_test))\n",
    "score = model.evaluate(x_test_VGG, y_test, verbose=0)\n",
    "print('Test loss:', score[0])\n",
    "print('Test accuracy:', score[1])"
   ]
  },
  {
   "cell_type": "code",
   "execution_count": 6,
   "metadata": {},
   "outputs": [
    {
     "name": "stdout",
     "output_type": "stream",
     "text": [
      "Train on 60000 samples, validate on 10000 samples\n",
      "Epoch 1/12\n",
      "60000/60000 [==============================] - 757s 13ms/step - loss: 0.0787 - acc: 0.9759 - val_loss: 0.0656 - val_acc: 0.9785\n",
      "Epoch 2/12\n",
      "60000/60000 [==============================] - 723s 12ms/step - loss: 0.0560 - acc: 0.9824 - val_loss: 0.0531 - val_acc: 0.9831\n",
      "Epoch 3/12\n",
      "60000/60000 [==============================] - 785s 13ms/step - loss: 0.0472 - acc: 0.9851 - val_loss: 0.0472 - val_acc: 0.9851\n",
      "Epoch 4/12\n",
      "60000/60000 [==============================] - 741s 12ms/step - loss: 0.0416 - acc: 0.9875 - val_loss: 0.0434 - val_acc: 0.9860\n",
      "Epoch 5/12\n",
      "60000/60000 [==============================] - 801s 13ms/step - loss: 0.0371 - acc: 0.9883 - val_loss: 0.0416 - val_acc: 0.9871\n",
      "Epoch 6/12\n",
      "60000/60000 [==============================] - 740s 12ms/step - loss: 0.0335 - acc: 0.9901 - val_loss: 0.0409 - val_acc: 0.9878\n",
      "Epoch 7/12\n",
      "60000/60000 [==============================] - 801s 13ms/step - loss: 0.0309 - acc: 0.9909 - val_loss: 0.0398 - val_acc: 0.9876\n",
      "Epoch 8/12\n",
      "60000/60000 [==============================] - 744s 12ms/step - loss: 0.0287 - acc: 0.9916 - val_loss: 0.0359 - val_acc: 0.9885\n",
      "Epoch 9/12\n",
      "60000/60000 [==============================] - 788s 13ms/step - loss: 0.0264 - acc: 0.9925 - val_loss: 0.0355 - val_acc: 0.9887\n",
      "Epoch 10/12\n",
      "60000/60000 [==============================] - 736s 12ms/step - loss: 0.0249 - acc: 0.9927 - val_loss: 0.0343 - val_acc: 0.9900\n",
      "Epoch 11/12\n",
      "60000/60000 [==============================] - 803s 13ms/step - loss: 0.0238 - acc: 0.9931 - val_loss: 0.0353 - val_acc: 0.9892\n",
      "Epoch 12/12\n",
      "60000/60000 [==============================] - 744s 12ms/step - loss: 0.0221 - acc: 0.9937 - val_loss: 0.0322 - val_acc: 0.9902\n",
      "Test loss: 0.03215658742006635\n",
      "Test accuracy: 0.9902\n"
     ]
    }
   ],
   "source": [
    "for layer in model.layers[-6:]:\n",
    "    layer.trainable = True\n",
    "from keras.optimizers import SGD\n",
    "model.compile(loss=keras.losses.categorical_crossentropy,\n",
    "              optimizer=SGD(lr=0.0001, momentum=0.9),\n",
    "              metrics=['accuracy'])\n",
    "model.fit(x_train_VGG, y_train,\n",
    "          batch_size=BATCH_SIZE,\n",
    "          epochs=MAX_EPOCH,\n",
    "          verbose=1,\n",
    "          validation_data=(x_test_VGG, y_test))\n",
    "score = model.evaluate(x_test_VGG, y_test, verbose=0)\n",
    "print('Test loss:', score[0])\n",
    "print('Test accuracy:', score[1])"
   ]
  },
  {
   "cell_type": "code",
   "execution_count": 11,
   "metadata": {},
   "outputs": [
    {
     "data": {
      "image/png": "[encoded data removed]",
      "text/plain": [
       "<Figure size 720x432 with 1 Axes>"
      ]
     },
     "metadata": {},
     "output_type": "display_data"
    }
   ],
   "source": [
    "train_loss_VGG = [1.0711,0.3962,0.2664,0.2087,0.1760,0.1550,0.1398,0.1285,0.1191,0.1118,0.1063,0.1005,0.0787,0.0560,0.0472,0.0416,0.0371,0.0335,0.0309,0.0287,0.0264,0.0249,0.0238,0.0221]\n",
    "val_loss_VGG = [0.5223,0.2974,0.2245,0.1741,0.1817,0.1406,0.1260,0.1241,0.1148,0.1162,0.1046,0.1298,0.0656,0.0531,0.0472,0.0434,0.0416,0.0409,0.0398,0.0359,0.0355,0.0343,0.0353,0.0322]\n",
    "plt.figure(figsize=(10,6))\n",
    "plt.plot(range(1,len(train_loss_VGG)+1),train_loss_VGG)\n",
    "plt.plot(range(1,len(val_loss_VGG)+1),val_loss_VGG)\n",
    "plt.legend(['train','val'])\n",
    "plt.title('train/val loss of VGG16')\n",
    "plt.show()"
   ]
  },
  {
   "cell_type": "markdown",
   "metadata": {},
   "source": [
    "### 2. 1-Nearest Neighbor\n",
    "\n",
    "Using the raw pixel values (28 × 28) as feature vector, use 1-Nearest Neighbor to train a model and report its performance on the test set and the confusion matrix. Also report other details of the experiments like the distance functions used, prototype selection (if you have used), etc."
   ]
  },
  {
   "cell_type": "markdown",
   "metadata": {},
   "source": [
    "Use euclidean_distance (l2)"
   ]
  },
  {
   "cell_type": "code",
   "execution_count": 63,
   "metadata": {},
   "outputs": [
    {
     "name": "stdout",
     "output_type": "stream",
     "text": [
      "Test accuracy of 1-Nearest Neighbor: 0.969\n"
     ]
    },
    {
     "data": {
      "text/plain": [
       "array([[ 973,    1,    1,    0,    0,    1,    3,    1,    0,    0],\n",
       "       [   0, 1129,    3,    0,    1,    1,    1,    0,    0,    0],\n",
       "       [   7,    6,  992,    5,    1,    0,    2,   16,    3,    0],\n",
       "       [   0,    1,    2,  970,    1,   19,    0,    7,    7,    3],\n",
       "       [   0,    7,    0,    0,  944,    0,    3,    5,    1,   22],\n",
       "       [   1,    1,    0,   12,    2,  860,    5,    1,    6,    4],\n",
       "       [   4,    2,    0,    0,    3,    5,  944,    0,    0,    0],\n",
       "       [   0,   14,    6,    2,    4,    0,    0,  992,    0,   10],\n",
       "       [   6,    1,    3,   14,    5,   13,    3,    4,  920,    5],\n",
       "       [   2,    5,    1,    6,   10,    5,    1,   11,    1,  967]])"
      ]
     },
     "execution_count": 63,
     "metadata": {},
     "output_type": "execute_result"
    }
   ],
   "source": [
    "from sklearn import neighbors\n",
    "\n",
    "# the number of neighbors\n",
    "n_neighbors = 1\n",
    "\n",
    "# n_neighbors=5, weights=’uniform’, algorithm=’auto’, p=2, metric=’minkowski’, n_jobs=1\n",
    "# weights: ‘uniform’, ‘distance’\n",
    "# p: distance norm\n",
    "clf = neighbors.KNeighborsClassifier(n_neighbors, weights='uniform', n_jobs=-1)\n",
    "clf.fit(x_train_1, y_train_1)\n",
    "\n",
    "y_predict_1nn_1 = clf.predict(x_test_1)\n",
    "acc_1nn_1 = sum(y_predict_1nn_1 == y_test_1)/len(y_test_1)\n",
    "print(\"Test accuracy of 1-Nearest Neighbor: %.3f\"%acc_1nn_1)\n",
    "confusion_matrix(y_test_1, y_predict_1nn_1, labels=range(10))"
   ]
  },
  {
   "cell_type": "markdown",
   "metadata": {},
   "source": [
    "Use manhattan_distance (l1)"
   ]
  },
  {
   "cell_type": "code",
   "execution_count": 65,
   "metadata": {},
   "outputs": [
    {
     "name": "stdout",
     "output_type": "stream",
     "text": [
      "Test accuracy of 1-Nearest Neighbor: 0.963\n"
     ]
    },
    {
     "data": {
      "text/plain": [
       "array([[ 973,    2,    1,    0,    0,    1,    2,    1,    0,    0],\n",
       "       [   0, 1129,    3,    0,    1,    1,    1,    0,    0,    0],\n",
       "       [   9,    8,  987,    6,    1,    0,    2,   17,    2,    0],\n",
       "       [   0,    2,    4,  965,    1,   21,    0,    9,    4,    4],\n",
       "       [   1,    9,    0,    0,  937,    0,    3,    4,    1,   27],\n",
       "       [   2,    1,    0,   17,    2,  848,    9,    1,    5,    7],\n",
       "       [   5,    2,    1,    0,    2,    5,  943,    0,    0,    0],\n",
       "       [   0,   20,    4,    2,    4,    0,    0,  989,    0,    9],\n",
       "       [   9,    5,    6,   21,    4,   18,    3,    4,  894,   10],\n",
       "       [   1,    5,    1,    7,   13,    5,    1,    9,    1,  966]])"
      ]
     },
     "execution_count": 65,
     "metadata": {},
     "output_type": "execute_result"
    }
   ],
   "source": [
    "from sklearn import neighbors\n",
    "n_neighbors = 1\n",
    "clf = neighbors.KNeighborsClassifier(n_neighbors, p=1, n_jobs=-1)\n",
    "clf.fit(x_train_1, y_train_1)\n",
    "y_predict_1nn_2 = clf.predict(x_test_1)\n",
    "acc_1nn_2 = sum(y_predict_1nn_2 == y_test_1)/len(y_test_1)\n",
    "print(\"Test accuracy of 1-Nearest Neighbor: %.3f\"%acc_1nn_2)\n",
    "confusion_matrix(y_test_1, y_predict_1nn_2, labels=range(10))"
   ]
  },
  {
   "cell_type": "markdown",
   "metadata": {},
   "source": [
    "### 3. Support Vector Machines\n",
    "\n",
    "Using the same feature vector, use SVM to train a model and report its performance on the test set and the confusion matrix. Report other relevant details of the experiments."
   ]
  },
  {
   "cell_type": "code",
   "execution_count": null,
   "metadata": {},
   "outputs": [],
   "source": [
    "# C : float, optional (default=1.0)    \n",
    "#   Penalty parameter C of the error term.\n",
    "# kernel : string, optional (default=’rbf’)\n",
    "#   Specifies the kernel type to be used in the algorithm. \n",
    "#   It must be one of ‘linear’, ‘poly’, ‘rbf’, ‘sigmoid’, ‘precomputed’ or a callable. \n",
    "#   If none is given, ‘rbf’ will be used.\n",
    "# degree : int, optional (default=3)   \n",
    "#   Degree of the polynomial kernel function (‘poly’). Ignored by all other kernels.\n",
    "# gamma : float, optional (default=’auto’)\n",
    "#   Kernel coefficient for ‘rbf’, ‘poly’ and ‘sigmoid’. If gamma is ‘auto’ then 1/n_features will be used instead.\n",
    "\n",
    "#SVC(C=1.0, cache_size=200, class_weight=None, coef0=0.0,\n",
    "#    decision_function_shape='ovr', degree=3, gamma='auto', kernel='rbf',\n",
    "#    max_iter=-1, probability=False, random_state=None, shrinking=True,\n",
    "#    tol=0.001, verbose=False)"
   ]
  },
  {
   "cell_type": "markdown",
   "metadata": {},
   "source": [
    "Use Radial basis function(RBF) kernel"
   ]
  },
  {
   "cell_type": "code",
   "execution_count": 67,
   "metadata": {},
   "outputs": [
    {
     "name": "stdout",
     "output_type": "stream",
     "text": [
      "Test accuracy of Support Vector Machines: 0.945\n"
     ]
    },
    {
     "data": {
      "text/plain": [
       "array([[ 967,    0,    2,    0,    0,    5,    4,    1,    1,    0],\n",
       "       [   0, 1121,    2,    2,    0,    1,    4,    1,    4,    0],\n",
       "       [   9,    1,  961,    9,   10,    1,   13,    9,   17,    2],\n",
       "       [   1,    1,   15,  951,    1,   15,    1,   10,   11,    4],\n",
       "       [   1,    1,    7,    0,  938,    0,    7,    2,    2,   24],\n",
       "       [   7,    4,    5,   30,    7,  810,   12,    2,   10,    5],\n",
       "       [   9,    3,    4,    1,    5,    9,  926,    0,    1,    0],\n",
       "       [   2,   13,   22,    5,    8,    1,    0,  956,    3,   18],\n",
       "       [   4,    7,    7,   14,    8,   23,   10,    6,  892,    3],\n",
       "       [   8,    7,    0,   12,   31,    6,    1,   13,    7,  924]])"
      ]
     },
     "execution_count": 67,
     "metadata": {},
     "output_type": "execute_result"
    }
   ],
   "source": [
    "from sklearn.svm import SVC\n",
    "clf = SVC()\n",
    "clf.fit(x_train_1, y_train_1) \n",
    "y_predict_SVM_1 = clf.predict(x_test_1)\n",
    "acc_SVM_1 = sum(y_predict_SVM_1 == y_test_1)/len(y_test_1)\n",
    "print(\"Test accuracy of Support Vector Machines: %.3f\"%acc_SVM_1)\n",
    "confusion_matrix(y_test_1, y_predict_SVM_1, labels=range(10))"
   ]
  },
  {
   "cell_type": "markdown",
   "metadata": {},
   "source": [
    "Use linear kernel"
   ]
  },
  {
   "cell_type": "code",
   "execution_count": 70,
   "metadata": {},
   "outputs": [
    {
     "name": "stdout",
     "output_type": "stream",
     "text": [
      "Test accuracy of Support Vector Machines: 0.918\n"
     ]
    },
    {
     "data": {
      "text/plain": [
       "array([[ 951,    0,    1,    2,    2,   11,    5,    6,    1,    1],\n",
       "       [   0, 1108,    4,    0,    0,    2,    4,    2,   15,    0],\n",
       "       [   4,    5,  939,   10,   12,    5,    9,   12,   33,    3],\n",
       "       [   5,    0,   30,  893,    3,   29,    3,   13,   25,    9],\n",
       "       [   1,    5,    5,    0,  931,    0,    6,    2,    8,   24],\n",
       "       [   8,    4,    3,   28,   20,  770,   17,    4,   30,    8],\n",
       "       [   5,    3,    7,    3,   10,   13,  907,    3,    7,    0],\n",
       "       [   1,    7,   28,    3,   10,    2,    1,  947,    2,   27],\n",
       "       [   6,    9,    8,   13,   14,   32,   10,   11,  859,   12],\n",
       "       [   5,   11,    3,    8,   50,   12,    0,   34,   12,  874]])"
      ]
     },
     "execution_count": 70,
     "metadata": {},
     "output_type": "execute_result"
    }
   ],
   "source": [
    "from sklearn.linear_model import SGDClassifier\n",
    "clf = SGDClassifier(tol = 1e-3)\n",
    "clf.fit(x_train_1, y_train_1) \n",
    "y_predict_SVM_2 = clf.predict(x_test_1)\n",
    "acc_SVM_2 = sum(y_predict_SVM_2 == y_test_1)/len(y_test_1)\n",
    "print(\"Test accuracy of Support Vector Machines: %.3f\"%acc_SVM_2)\n",
    "confusion_matrix(y_test_1, y_predict_SVM_2, labels=range(10))"
   ]
  },
  {
   "cell_type": "markdown",
   "metadata": {},
   "source": [
    "### 4. Spatial Pyramid Matching"
   ]
  },
  {
   "cell_type": "code",
   "execution_count": 111,
   "metadata": {},
   "outputs": [
    {
     "name": "stdout",
     "output_type": "stream",
     "text": [
      "/media/qiaojun/disk/Qiaojun/Courses/COGS260/assignment/assignment2/hw2/Image-recognition\n",
      "Training data load from None\n",
      "Test data load from None\n",
      "x_train shape: (60000, 28, 28, 1)\n",
      "60000 train samples\n",
      "10000 test samples\n",
      "Codebook Size: 100\n",
      "Pyramid level: 1\n",
      "Dense SIFT feature extraction\n",
      "Building the codebook, it will take some time\n",
      "Spatial Pyramid Matching encoding\n",
      "Tuning hyper-parameters\n",
      "\n",
      "Best parameters set found on development set:\n",
      "\n",
      "SVC(C=1.0, cache_size=200, class_weight=None, coef0=0.0,\n",
      "  decision_function_shape='ovr', degree=3, gamma=100.0, kernel='rbf',\n",
      "  max_iter=-1, probability=False, random_state=None, shrinking=True,\n",
      "  tol=0.001, verbose=False)\n",
      "\n",
      "Grid scores on development set:\n",
      "\n",
      "0.112 (+/-0.000) for {'C': 0.001, 'gamma': 0.001}\n",
      "0.112 (+/-0.000) for {'C': 0.001, 'gamma': 0.01}\n",
      "0.112 (+/-0.000) for {'C': 0.001, 'gamma': 0.1}\n",
      "0.112 (+/-0.000) for {'C': 0.001, 'gamma': 1.0}\n",
      "0.433 (+/-0.004) for {'C': 0.001, 'gamma': 10.0}\n",
      "0.612 (+/-0.013) for {'C': 0.001, 'gamma': 100.0}\n",
      "0.112 (+/-0.000) for {'C': 0.01, 'gamma': 0.001}\n",
      "0.112 (+/-0.000) for {'C': 0.01, 'gamma': 0.01}\n",
      "0.112 (+/-0.000) for {'C': 0.01, 'gamma': 0.1}\n",
      "0.525 (+/-0.009) for {'C': 0.01, 'gamma': 1.0}\n",
      "0.726 (+/-0.015) for {'C': 0.01, 'gamma': 10.0}\n",
      "0.775 (+/-0.015) for {'C': 0.01, 'gamma': 100.0}\n",
      "0.112 (+/-0.000) for {'C': 0.1, 'gamma': 0.001}\n",
      "0.112 (+/-0.000) for {'C': 0.1, 'gamma': 0.01}\n",
      "0.529 (+/-0.010) for {'C': 0.1, 'gamma': 0.1}\n",
      "0.730 (+/-0.015) for {'C': 0.1, 'gamma': 1.0}\n",
      "0.794 (+/-0.012) for {'C': 0.1, 'gamma': 10.0}\n",
      "0.835 (+/-0.013) for {'C': 0.1, 'gamma': 100.0}\n",
      "0.112 (+/-0.000) for {'C': 1.0, 'gamma': 0.001}\n",
      "0.530 (+/-0.010) for {'C': 1.0, 'gamma': 0.01}\n",
      "0.730 (+/-0.015) for {'C': 1.0, 'gamma': 0.1}\n",
      "0.790 (+/-0.014) for {'C': 1.0, 'gamma': 1.0}\n",
      "0.829 (+/-0.010) for {'C': 1.0, 'gamma': 10.0}\n",
      "0.862 (+/-0.010) for {'C': 1.0, 'gamma': 100.0}\n",
      "0.530 (+/-0.010) for {'C': 10.0, 'gamma': 0.001}\n",
      "0.730 (+/-0.016) for {'C': 10.0, 'gamma': 0.01}\n",
      "0.789 (+/-0.015) for {'C': 10.0, 'gamma': 0.1}\n",
      "0.816 (+/-0.010) for {'C': 10.0, 'gamma': 1.0}\n",
      "0.852 (+/-0.011) for {'C': 10.0, 'gamma': 10.0}\n",
      "0.858 (+/-0.010) for {'C': 10.0, 'gamma': 100.0}\n",
      "0.731 (+/-0.015) for {'C': 100.0, 'gamma': 0.001}\n",
      "0.789 (+/-0.015) for {'C': 100.0, 'gamma': 0.01}\n",
      "0.812 (+/-0.010) for {'C': 100.0, 'gamma': 0.1}\n",
      "0.835 (+/-0.010) for {'C': 100.0, 'gamma': 1.0}\n",
      "0.860 (+/-0.010) for {'C': 100.0, 'gamma': 10.0}\n",
      "0.844 (+/-0.010) for {'C': 100.0, 'gamma': 100.0}\n",
      "\n",
      "Detailed classification report:\n",
      "\n",
      "The model is trained on the full development set.\n",
      "The scores are computed on the full evaluation set.\n",
      "\n",
      "             precision    recall  f1-score   support\n",
      "\n",
      "          0       0.89      0.94      0.92       980\n",
      "          1       0.98      0.99      0.98      1135\n",
      "          2       0.87      0.86      0.87      1032\n",
      "          3       0.79      0.80      0.80      1010\n",
      "          4       0.92      0.88      0.90       982\n",
      "          5       0.82      0.78      0.80       892\n",
      "          6       0.93      0.93      0.93       958\n",
      "          7       0.85      0.88      0.86      1028\n",
      "          8       0.80      0.75      0.77       974\n",
      "          9       0.81      0.84      0.83      1009\n",
      "\n",
      "avg / total       0.87      0.87      0.87     10000\n",
      "\n",
      "Test accuracy of SPM: 0.868\n",
      "[[ 922    3    3    1    5    5   19    5   12    5]\n",
      " [   1 1119    2    3    0    1    4    1    4    0]\n",
      " [   5    2  888   79    6    5    2   33   10    2]\n",
      " [   0    0   74  813    2   30    0   61   25    5]\n",
      " [  10    0    4    0  866    9   18    2   13   60]\n",
      " [  11    3    6   52    7  699    8   10   58   38]\n",
      " [  36    4    3    0    9    6  887    0   13    0]\n",
      " [   2    1   27   38    5    5    0  907    9   34]\n",
      " [  29    4   12   41   13   56    8   30  730   51]\n",
      " [  16    4    0    8   25   37    4   23   40  852]]\n",
      "/media/qiaojun/disk/Qiaojun/Courses/COGS260/assignment/assignment2/hw2\n"
     ]
    }
   ],
   "source": [
    "%cd Image-recognition/\n",
    "%run example.py\n",
    "%cd ../"
   ]
  },
  {
   "cell_type": "code",
   "execution_count": 113,
   "metadata": {},
   "outputs": [],
   "source": [
    "acc_SPM = 0.868"
   ]
  },
  {
   "cell_type": "markdown",
   "metadata": {},
   "source": [
    "### 5. Deep Belief Nets"
   ]
  },
  {
   "cell_type": "code",
   "execution_count": 115,
   "metadata": {},
   "outputs": [],
   "source": [
    "#Test accuracy of Deep Belief Nets: 0.985\n",
    "# [[ 975    1    0    0    0    1    2    1    0    0]\n",
    "# [   0 1129    2    1    0    1    1    0    1    0]\n",
    "# [   6    0 1017    1    1    0    1    4    2    0]\n",
    "# [   1    0    3  991    0    4    0    5    4    2]\n",
    "# [   2    0    2    0  957    0    5    1    0   15]\n",
    "# [   2    0    0    1    1  878    4    0    4    2]\n",
    "# [   2    2    0    1    2    2  945    0    4    0]\n",
    "# [   2    3    6    0    1    0    0 1009    1    6]\n",
    "# [   2    1    1    2    0    1    0    1  962    4]\n",
    "# [   2    3    1    2    3    2    0    3    3  990]]"
   ]
  },
  {
   "cell_type": "markdown",
   "metadata": {},
   "source": [
    "### Evaluation"
   ]
  },
  {
   "cell_type": "code",
   "execution_count": 7,
   "metadata": {},
   "outputs": [
    {
     "data": {
      "image/png": "[encoded data removed]",
      "text/plain": [
       "<Figure size 720x432 with 1 Axes>"
      ]
     },
     "metadata": {},
     "output_type": "display_data"
    }
   ],
   "source": [
    "name_list = ['LeNet','VGG16','1-NN','SVM','SPM','DBN'] \n",
    "acc_list = [0.993, 0.990, 0.969, 0.945, 0.868, 0.985]  \n",
    "\n",
    "plt.figure(figsize=(10,6))\n",
    "plt.bar(range(len(name_list)), acc_list, color='rgbymc',tick_label=name_list)\n",
    "plt.title('Evaluation of classification accuracy on MNIST')\n",
    "plt.show() "
   ]
  }
 ],
 "metadata": {
  "kernelspec": {
   "display_name": "Python 3",
   "language": "python",
   "name": "python3"
  },
  "language_info": {
   "codemirror_mode": {
    "name": "ipython",
    "version": 3
   },
   "file_extension": ".py",
   "mimetype": "text/x-python",
   "name": "python",
   "nbconvert_exporter": "python",
   "pygments_lexer": "ipython3",
   "version": "3.5.2"
  }
 },
 "nbformat": 4,
 "nbformat_minor": 1
}
