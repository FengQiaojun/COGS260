{
 "cells": [
  {
   "cell_type": "markdown",
   "metadata": {},
   "source": [
    "## 2 Char RNN\n",
    "<img src=\"assets/charseq.jpeg\" width=\"500\">"
   ]
  },
  {
   "cell_type": "code",
   "execution_count": 87,
   "metadata": {},
   "outputs": [],
   "source": [
    "import time\n",
    "from collections import namedtuple\n",
    "\n",
    "import numpy as np\n",
    "import tensorflow as tf"
   ]
  },
  {
   "cell_type": "markdown",
   "metadata": {},
   "source": [
    "First we'll load the text file and convert it into integers for our network to use. Here I'm creating a couple dictionaries to convert the characters to and from integers. Encoding the characters as integers makes it easier to use as input in the network."
   ]
  },
  {
   "cell_type": "code",
   "execution_count": 26,
   "metadata": {},
   "outputs": [],
   "source": [
    "with open('tinyshakespeare.txt', 'r') as f:\n",
    "    text=f.read()\n",
    "vocab = sorted(set(text))\n",
    "vocab_to_int = {c: i for i, c in enumerate(vocab)}\n",
    "int_to_vocab = dict(enumerate(vocab))\n",
    "encoded = np.array([vocab_to_int[c] for c in text], dtype=np.int32)"
   ]
  },
  {
   "cell_type": "markdown",
   "metadata": {},
   "source": [
    "## Making training mini-batches\n",
    "\n",
    "Here is where we'll make our mini-batches for training. Remember that we want our batches to be multiple sequences of some desired number of sequence steps. Considering a simple example, our batches would look like this:\n",
    "\n",
    "<img src=\"assets/sequence_batching@1x.png\" width=500px>\n"
   ]
  },
  {
   "cell_type": "code",
   "execution_count": 30,
   "metadata": {},
   "outputs": [],
   "source": [
    "def get_batches(arr, batch_size, n_steps):\n",
    "    '''Create a generator that returns batches of size\n",
    "       batch_size x n_steps from arr.\n",
    "       \n",
    "       Arguments\n",
    "       ---------\n",
    "       arr: Array you want to make batches from\n",
    "       batch_size: Batch size, the number of sequences per batch\n",
    "       n_steps: Number of sequence steps per batch\n",
    "    '''\n",
    "    # Get the number of characters per batch and number of batches we can make\n",
    "    chars_per_batch = batch_size * n_steps\n",
    "    n_batches = len(arr)//chars_per_batch\n",
    "    \n",
    "    # Keep only enough characters to make full batches\n",
    "    arr = arr[:n_batches * chars_per_batch]\n",
    "    \n",
    "    # Reshape into batch_size rows\n",
    "    arr = arr.reshape((batch_size, -1))\n",
    "    \n",
    "    for n in range(0, arr.shape[1], n_steps):\n",
    "        # The features\n",
    "        x = arr[:, n:n+n_steps]\n",
    "        # The targets, shifted by one\n",
    "        y_temp = arr[:, n+1:n+n_steps+1]\n",
    "        \n",
    "        # For the very last batch, y will be one character short at the end of \n",
    "        # the sequences which breaks things. To get around this, I'll make an \n",
    "        # array of the appropriate size first, of all zeros, then add the targets.\n",
    "        # This will introduce a small artifact in the last batch, but it won't matter.\n",
    "        y = np.zeros(x.shape, dtype=x.dtype)\n",
    "        y[:,:y_temp.shape[1]] = y_temp\n",
    "        \n",
    "        yield x, y"
   ]
  },
  {
   "cell_type": "markdown",
   "metadata": {},
   "source": [
    "Now I'll make my data sets and we can check out what's going on here. Here I'm going to use a batch size of 10 and 50 sequence steps."
   ]
  },
  {
   "cell_type": "code",
   "execution_count": 31,
   "metadata": {},
   "outputs": [],
   "source": [
    "batches = get_batches(encoded, 10, 50)\n",
    "x, y = next(batches)"
   ]
  },
  {
   "cell_type": "markdown",
   "metadata": {},
   "source": [
    "## Building the model\n",
    "\n",
    "Below is where you'll build the network. We'll break it up into parts so it's easier to reason about each bit. Then we can connect them up into the whole network.\n",
    "\n",
    "<img src=\"assets/charRNN.png\" width=500px>\n",
    "\n",
    "\n",
    "### Inputs\n",
    "\n",
    "First off we'll create our input placeholders. As usual we need placeholders for the training data and the targets. We'll also create a placeholder for dropout layers called `keep_prob`."
   ]
  },
  {
   "cell_type": "code",
   "execution_count": 9,
   "metadata": {},
   "outputs": [],
   "source": [
    "def build_inputs(batch_size, num_steps):\n",
    "    ''' Define placeholders for inputs, targets, and dropout \n",
    "    \n",
    "        Arguments\n",
    "        ---------\n",
    "        batch_size: Batch size, number of sequences per batch\n",
    "        num_steps: Number of sequence steps in a batch\n",
    "        \n",
    "    '''\n",
    "    # Declare placeholders we'll feed into the graph\n",
    "    inputs = tf.placeholder(tf.int32, [batch_size, num_steps], name='inputs')\n",
    "    targets = tf.placeholder(tf.int32, [batch_size, num_steps], name='targets')\n",
    "    \n",
    "    # Keep probability placeholder for drop out layers\n",
    "    keep_prob = tf.placeholder(tf.float32, name='keep_prob')\n",
    "    \n",
    "    return inputs, targets, keep_prob"
   ]
  },
  {
   "cell_type": "markdown",
   "metadata": {},
   "source": [
    "### LSTM Cell\n",
    "\n",
    "Below, we implement the `build_lstm` function to create these LSTM cells and the initial state."
   ]
  },
  {
   "cell_type": "code",
   "execution_count": 10,
   "metadata": {},
   "outputs": [],
   "source": [
    "def build_lstm(lstm_size, num_layers, batch_size, keep_prob):\n",
    "    ''' Build LSTM cell.\n",
    "    \n",
    "        Arguments\n",
    "        ---------\n",
    "        keep_prob: Scalar tensor (tf.placeholder) for the dropout keep probability\n",
    "        lstm_size: Size of the hidden layers in the LSTM cells\n",
    "        num_layers: Number of LSTM layers\n",
    "        batch_size: Batch size\n",
    "\n",
    "    '''\n",
    "    ### Build the LSTM Cell\n",
    "    \n",
    "    def build_cell(lstm_size, keep_prob):\n",
    "        # Use a basic LSTM cell\n",
    "        lstm = tf.contrib.rnn.BasicLSTMCell(lstm_size)\n",
    "        \n",
    "        # Add dropout to the cell\n",
    "        drop = tf.contrib.rnn.DropoutWrapper(lstm, output_keep_prob=keep_prob)\n",
    "        return drop\n",
    "    \n",
    "    \n",
    "    # Stack up multiple LSTM layers, for deep learning\n",
    "    cell = tf.contrib.rnn.MultiRNNCell([build_cell(lstm_size, keep_prob) for _ in range(num_layers)])\n",
    "    initial_state = cell.zero_state(batch_size, tf.float32)\n",
    "    \n",
    "    return cell, initial_state"
   ]
  },
  {
   "cell_type": "markdown",
   "metadata": {},
   "source": [
    "### RNN Output\n"
   ]
  },
  {
   "cell_type": "code",
   "execution_count": 11,
   "metadata": {},
   "outputs": [],
   "source": [
    "def build_output(lstm_output, in_size, out_size):\n",
    "    ''' Build a softmax layer, return the softmax output and logits.\n",
    "    \n",
    "        Arguments\n",
    "        ---------\n",
    "        \n",
    "        x: Input tensor\n",
    "        in_size: Size of the input tensor, for example, size of the LSTM cells\n",
    "        out_size: Size of this softmax layer\n",
    "    \n",
    "    '''\n",
    "\n",
    "    # Reshape output so it's a bunch of rows, one row for each step for each sequence.\n",
    "    # That is, the shape should be batch_size*num_steps rows by lstm_size columns\n",
    "    seq_output = tf.concat(lstm_output, axis=1)\n",
    "    x = tf.reshape(seq_output, [-1, in_size])\n",
    "    \n",
    "    # Connect the RNN outputs to a softmax layer\n",
    "    with tf.variable_scope('softmax'):\n",
    "        softmax_w = tf.Variable(tf.truncated_normal((in_size, out_size), stddev=0.1))\n",
    "        softmax_b = tf.Variable(tf.zeros(out_size))\n",
    "    \n",
    "    # Since output is a bunch of rows of RNN cell outputs, logits will be a bunch\n",
    "    # of rows of logit outputs, one for each step and sequence\n",
    "    logits = tf.matmul(x, softmax_w) + softmax_b\n",
    "    \n",
    "    # Use softmax to get the probabilities for predicted characters\n",
    "    out = tf.nn.softmax(logits, name='predictions')\n",
    "    \n",
    "    return out, logits"
   ]
  },
  {
   "cell_type": "markdown",
   "metadata": {},
   "source": [
    "### Training loss\n",
    "\n",
    "Next up is the training loss. We get the logits and targets and calculate the softmax cross-entropy loss. First we need to one-hot encode the targets, we're getting them as encoded characters. Then, reshape the one-hot targets so it's a 2D tensor with size $(M*N) \\times C$ where $C$ is the number of classes/characters we have. Remember that we reshaped the LSTM outputs and ran them through a fully connected layer with $C$ units. So our logits will also have size $(M*N) \\times C$.\n",
    "\n",
    "Then we run the logits and targets through `tf.nn.softmax_cross_entropy_with_logits` and find the mean to get the loss."
   ]
  },
  {
   "cell_type": "code",
   "execution_count": 12,
   "metadata": {},
   "outputs": [],
   "source": [
    "def build_loss(logits, targets, lstm_size, num_classes):\n",
    "    ''' Calculate the loss from the logits and the targets.\n",
    "    \n",
    "        Arguments\n",
    "        ---------\n",
    "        logits: Logits from final fully connected layer\n",
    "        targets: Targets for supervised learning\n",
    "        lstm_size: Number of LSTM hidden units\n",
    "        num_classes: Number of classes in targets\n",
    "        \n",
    "    '''\n",
    "    \n",
    "    # One-hot encode targets and reshape to match logits, one row per batch_size per step\n",
    "    y_one_hot = tf.one_hot(targets, num_classes)\n",
    "    y_reshaped = tf.reshape(y_one_hot, logits.get_shape())\n",
    "    \n",
    "    # Softmax cross entropy loss\n",
    "    loss = tf.nn.softmax_cross_entropy_with_logits(logits=logits, labels=y_reshaped)\n",
    "    loss = tf.reduce_mean(loss)\n",
    "    return loss"
   ]
  },
  {
   "cell_type": "markdown",
   "metadata": {},
   "source": [
    "### Optimizer\n",
    "\n",
    "Here we build the optimizer. Normal RNNs have have issues gradients exploding and disappearing. LSTMs fix the disappearance problem, but the gradients can still grow without bound. To fix this, we can clip the gradients above some threshold. That is, if a gradient is larger than that threshold, we set it to the threshold. This will ensure the gradients never grow overly large. Then we use an AdamOptimizer for the learning step."
   ]
  },
  {
   "cell_type": "code",
   "execution_count": 13,
   "metadata": {},
   "outputs": [],
   "source": [
    "def build_optimizer(loss, learning_rate, grad_clip):\n",
    "    ''' Build optmizer for training, using gradient clipping.\n",
    "    \n",
    "        Arguments:\n",
    "        loss: Network loss\n",
    "        learning_rate: Learning rate for optimizer\n",
    "    \n",
    "    '''\n",
    "    \n",
    "    # Optimizer for training, using gradient clipping to control exploding gradients\n",
    "    tvars = tf.trainable_variables()\n",
    "    grads, _ = tf.clip_by_global_norm(tf.gradients(loss, tvars), grad_clip)\n",
    "    train_op = tf.train.AdamOptimizer(learning_rate)\n",
    "    optimizer = train_op.apply_gradients(zip(grads, tvars))\n",
    "    \n",
    "    return optimizer"
   ]
  },
  {
   "cell_type": "markdown",
   "metadata": {},
   "source": [
    "### Build the network\n",
    "\n",
    "Now we can put all the pieces together and build a class for the network. To actually run data through the LSTM cells, we will use [`tf.nn.dynamic_rnn`](https://www.tensorflow.org/versions/r1.0/api_docs/python/tf/nn/dynamic_rnn). This function will pass the hidden and cell states across LSTM cells appropriately for us. It returns the outputs for each LSTM cell at each step for each sequence in the mini-batch. It also gives us the final LSTM state. We want to save this state as `final_state` so we can pass it to the first LSTM cell in the the next mini-batch run. For `tf.nn.dynamic_rnn`, we pass in the cell and initial state we get from `build_lstm`, as well as our input sequences. Also, we need to one-hot encode the inputs before going into the RNN. "
   ]
  },
  {
   "cell_type": "code",
   "execution_count": 14,
   "metadata": {},
   "outputs": [],
   "source": [
    "class CharRNN:\n",
    "    \n",
    "    def __init__(self, num_classes, batch_size=64, num_steps=50, \n",
    "                       lstm_size=128, num_layers=2, learning_rate=0.001, \n",
    "                       grad_clip=5, sampling=False):\n",
    "    \n",
    "        # When we're using this network for sampling later, we'll be passing in\n",
    "        # one character at a time, so providing an option for that\n",
    "        if sampling == True:\n",
    "            batch_size, num_steps = 1, 1\n",
    "        else:\n",
    "            batch_size, num_steps = batch_size, num_steps\n",
    "\n",
    "        tf.reset_default_graph()\n",
    "        \n",
    "        # Build the input placeholder tensors\n",
    "        self.inputs, self.targets, self.keep_prob = build_inputs(batch_size, num_steps)\n",
    "\n",
    "        # Build the LSTM cell\n",
    "        cell, self.initial_state = build_lstm(lstm_size, num_layers, batch_size, self.keep_prob)\n",
    "\n",
    "        ### Run the data through the RNN layers\n",
    "        # First, one-hot encode the input tokens\n",
    "        x_one_hot = tf.one_hot(self.inputs, num_classes)\n",
    "        \n",
    "        # Run each sequence step through the RNN and collect the outputs\n",
    "        outputs, state = tf.nn.dynamic_rnn(cell, x_one_hot, initial_state=self.initial_state)\n",
    "        self.final_state = state\n",
    "        \n",
    "        # Get softmax predictions and logits\n",
    "        self.prediction, self.logits = build_output(outputs, lstm_size, num_classes)\n",
    "        \n",
    "        # Loss and optimizer (with gradient clipping)\n",
    "        self.loss = build_loss(self.logits, self.targets, lstm_size, num_classes)\n",
    "        self.optimizer = build_optimizer(self.loss, learning_rate, grad_clip)"
   ]
  },
  {
   "cell_type": "markdown",
   "metadata": {},
   "source": [
    "## Hyperparameters\n",
    "\n",
    "Here I'm defining the hyperparameters for the network. \n",
    "\n",
    "* `batch_size` - Number of sequences running through the network in one pass.\n",
    "* `num_steps` - Number of characters in the sequence the network is trained on. Larger is better typically, the network will learn more long range dependencies. But it takes longer to train. 100 is typically a good number here.\n",
    "* `lstm_size` - The number of units in the hidden layers.\n",
    "* `num_layers` - Number of hidden LSTM layers to use\n",
    "* `learning_rate` - Learning rate for training\n",
    "* `keep_prob` - The dropout keep probability when training. If you're network is overfitting, try decreasing this.\n"
   ]
  },
  {
   "cell_type": "code",
   "execution_count": 84,
   "metadata": {},
   "outputs": [],
   "source": [
    "batch_size = 100        # Sequences per batch\n",
    "num_steps = 100         # Number of sequence steps per batch\n",
    "lstm_size = 512         # Size of hidden layers in LSTMs\n",
    "num_layers = 2          # Number of LSTM layers\n",
    "learning_rate = 0.001   # Learning rate\n",
    "keep_prob = 0.4         # Dropout keep probability"
   ]
  },
  {
   "cell_type": "markdown",
   "metadata": {},
   "source": [
    "## Time for training\n",
    "\n",
    "This is typical training code, passing inputs and targets into the network, then running the optimizer. Here we also get back the final LSTM state for the mini-batch. Then, we pass that state back into the network so the next batch can continue the state from the previous batch. And every so often (set by `save_every_n`) I save a checkpoint.\n",
    "\n",
    "Here I'm saving checkpoints with the format\n",
    "\n",
    "`i{iteration number}_l{# hidden layer units}.ckpt`"
   ]
  },
  {
   "cell_type": "code",
   "execution_count": 92,
   "metadata": {
    "scrolled": true
   },
   "outputs": [
    {
     "name": "stdout",
     "output_type": "stream",
     "text": [
      "Epoch: 1/70...  Training Step: 50...  Training loss: 3.3029...  0.0820 sec/batch\n",
      "Epoch: 1/70...  Training Step: 100...  Training loss: 3.1425...  0.0827 sec/batch\n",
      "Epoch: 2/70...  Training Step: 150...  Training loss: 2.8108...  0.0835 sec/batch\n",
      "Epoch: 2/70...  Training Step: 200...  Training loss: 2.5159...  0.0830 sec/batch\n",
      "Epoch: 3/70...  Training Step: 250...  Training loss: 2.3770...  0.0822 sec/batch\n",
      "Epoch: 3/70...  Training Step: 300...  Training loss: 2.3064...  0.0836 sec/batch\n",
      "Epoch: 4/70...  Training Step: 350...  Training loss: 2.2198...  0.0836 sec/batch\n",
      "Epoch: 4/70...  Training Step: 400...  Training loss: 2.1593...  0.0836 sec/batch\n",
      "Epoch: 5/70...  Training Step: 450...  Training loss: 2.0832...  0.0852 sec/batch\n",
      "Epoch: 5/70...  Training Step: 500...  Training loss: 2.0559...  0.0836 sec/batch\n",
      "Epoch: 5/70...  Training Step: 550...  Training loss: 2.0097...  0.0853 sec/batch\n",
      "Epoch: 6/70...  Training Step: 600...  Training loss: 1.9415...  0.0841 sec/batch\n",
      "Epoch: 6/70...  Training Step: 650...  Training loss: 1.9319...  0.0837 sec/batch\n",
      "Epoch: 7/70...  Training Step: 700...  Training loss: 1.9047...  0.0857 sec/batch\n",
      "Epoch: 7/70...  Training Step: 750...  Training loss: 1.8470...  0.0839 sec/batch\n",
      "Epoch: 8/70...  Training Step: 800...  Training loss: 1.8666...  0.0845 sec/batch\n",
      "Epoch: 8/70...  Training Step: 850...  Training loss: 1.8081...  0.0861 sec/batch\n",
      "Epoch: 9/70...  Training Step: 900...  Training loss: 1.8277...  0.0840 sec/batch\n",
      "Epoch: 9/70...  Training Step: 950...  Training loss: 1.7760...  0.0840 sec/batch\n",
      "Epoch: 10/70...  Training Step: 1000...  Training loss: 1.8160...  0.0850 sec/batch\n",
      "Epoch: 10/70...  Training Step: 1050...  Training loss: 1.7114...  0.0844 sec/batch\n",
      "Epoch: 10/70...  Training Step: 1100...  Training loss: 1.7216...  0.0829 sec/batch\n",
      "Epoch: 11/70...  Training Step: 1150...  Training loss: 1.6861...  0.0863 sec/batch\n",
      "Epoch: 11/70...  Training Step: 1200...  Training loss: 1.6728...  0.0851 sec/batch\n",
      "Epoch: 12/70...  Training Step: 1250...  Training loss: 1.6513...  0.0846 sec/batch\n",
      "Epoch: 12/70...  Training Step: 1300...  Training loss: 1.6501...  0.0851 sec/batch\n",
      "Epoch: 13/70...  Training Step: 1350...  Training loss: 1.6525...  0.0853 sec/batch\n",
      "Epoch: 13/70...  Training Step: 1400...  Training loss: 1.6155...  0.0857 sec/batch\n",
      "Epoch: 14/70...  Training Step: 1450...  Training loss: 1.5895...  0.0850 sec/batch\n",
      "Epoch: 14/70...  Training Step: 1500...  Training loss: 1.5720...  0.0845 sec/batch\n",
      "Epoch: 14/70...  Training Step: 1550...  Training loss: 1.6063...  0.0858 sec/batch\n",
      "Epoch: 15/70...  Training Step: 1600...  Training loss: 1.5610...  0.0839 sec/batch\n",
      "Epoch: 15/70...  Training Step: 1650...  Training loss: 1.5397...  0.0853 sec/batch\n",
      "Epoch: 16/70...  Training Step: 1700...  Training loss: 1.5562...  0.0850 sec/batch\n",
      "Epoch: 16/70...  Training Step: 1750...  Training loss: 1.5336...  0.0855 sec/batch\n",
      "Epoch: 17/70...  Training Step: 1800...  Training loss: 1.5072...  0.0860 sec/batch\n",
      "Epoch: 17/70...  Training Step: 1850...  Training loss: 1.5362...  0.0848 sec/batch\n",
      "Epoch: 18/70...  Training Step: 1900...  Training loss: 1.5257...  0.0845 sec/batch\n",
      "Epoch: 18/70...  Training Step: 1950...  Training loss: 1.4862...  0.0838 sec/batch\n",
      "Epoch: 19/70...  Training Step: 2000...  Training loss: 1.5162...  0.0851 sec/batch\n",
      "Epoch: 19/70...  Training Step: 2050...  Training loss: 1.5159...  0.0855 sec/batch\n",
      "Epoch: 19/70...  Training Step: 2100...  Training loss: 1.4690...  0.0853 sec/batch\n",
      "Epoch: 20/70...  Training Step: 2150...  Training loss: 1.4680...  0.0851 sec/batch\n",
      "Epoch: 20/70...  Training Step: 2200...  Training loss: 1.5025...  0.0853 sec/batch\n",
      "Epoch: 21/70...  Training Step: 2250...  Training loss: 1.4892...  0.0860 sec/batch\n",
      "Epoch: 21/70...  Training Step: 2300...  Training loss: 1.4484...  0.0857 sec/batch\n",
      "Epoch: 22/70...  Training Step: 2350...  Training loss: 1.4641...  0.0850 sec/batch\n",
      "Epoch: 22/70...  Training Step: 2400...  Training loss: 1.4456...  0.0837 sec/batch\n",
      "Epoch: 23/70...  Training Step: 2450...  Training loss: 1.4016...  0.0848 sec/batch\n",
      "Epoch: 23/70...  Training Step: 2500...  Training loss: 1.4093...  0.0854 sec/batch\n",
      "Epoch: 23/70...  Training Step: 2550...  Training loss: 1.4717...  0.0863 sec/batch\n",
      "Epoch: 24/70...  Training Step: 2600...  Training loss: 1.4632...  0.0846 sec/batch\n",
      "Epoch: 24/70...  Training Step: 2650...  Training loss: 1.4364...  0.0883 sec/batch\n",
      "Epoch: 25/70...  Training Step: 2700...  Training loss: 1.4084...  0.0863 sec/batch\n",
      "Epoch: 25/70...  Training Step: 2750...  Training loss: 1.4440...  0.0839 sec/batch\n",
      "Epoch: 26/70...  Training Step: 2800...  Training loss: 1.4026...  0.0848 sec/batch\n",
      "Epoch: 26/70...  Training Step: 2850...  Training loss: 1.3767...  0.0857 sec/batch\n",
      "Epoch: 27/70...  Training Step: 2900...  Training loss: 1.3725...  0.0853 sec/batch\n",
      "Epoch: 27/70...  Training Step: 2950...  Training loss: 1.3739...  0.0856 sec/batch\n",
      "Epoch: 28/70...  Training Step: 3000...  Training loss: 1.3745...  0.0866 sec/batch\n",
      "Epoch: 28/70...  Training Step: 3050...  Training loss: 1.4033...  0.0871 sec/batch\n",
      "Epoch: 28/70...  Training Step: 3100...  Training loss: 1.3772...  0.0850 sec/batch\n",
      "Epoch: 29/70...  Training Step: 3150...  Training loss: 1.4043...  0.0868 sec/batch\n",
      "Epoch: 29/70...  Training Step: 3200...  Training loss: 1.3996...  0.0870 sec/batch\n",
      "Epoch: 30/70...  Training Step: 3250...  Training loss: 1.3798...  0.0875 sec/batch\n",
      "Epoch: 30/70...  Training Step: 3300...  Training loss: 1.3757...  0.0876 sec/batch\n",
      "Epoch: 31/70...  Training Step: 3350...  Training loss: 1.3483...  0.0862 sec/batch\n",
      "Epoch: 31/70...  Training Step: 3400...  Training loss: 1.3363...  0.0853 sec/batch\n",
      "Epoch: 32/70...  Training Step: 3450...  Training loss: 1.3744...  0.0849 sec/batch\n",
      "Epoch: 32/70...  Training Step: 3500...  Training loss: 1.3428...  0.0903 sec/batch\n",
      "Epoch: 32/70...  Training Step: 3550...  Training loss: 1.3682...  0.0861 sec/batch\n",
      "Epoch: 33/70...  Training Step: 3600...  Training loss: 1.3673...  0.0873 sec/batch\n",
      "Epoch: 33/70...  Training Step: 3650...  Training loss: 1.3355...  0.0852 sec/batch\n",
      "Epoch: 34/70...  Training Step: 3700...  Training loss: 1.3455...  0.1012 sec/batch\n",
      "Epoch: 34/70...  Training Step: 3750...  Training loss: 1.3316...  0.0872 sec/batch\n",
      "Epoch: 35/70...  Training Step: 3800...  Training loss: 1.3384...  0.0845 sec/batch\n",
      "Epoch: 35/70...  Training Step: 3850...  Training loss: 1.3263...  0.0853 sec/batch\n",
      "Epoch: 36/70...  Training Step: 3900...  Training loss: 1.3169...  0.0851 sec/batch\n",
      "Epoch: 36/70...  Training Step: 3950...  Training loss: 1.3250...  0.0851 sec/batch\n",
      "Epoch: 37/70...  Training Step: 4000...  Training loss: 1.3392...  0.0857 sec/batch\n",
      "Epoch: 37/70...  Training Step: 4050...  Training loss: 1.3393...  0.0877 sec/batch\n",
      "Epoch: 37/70...  Training Step: 4100...  Training loss: 1.3498...  0.0871 sec/batch\n",
      "Epoch: 38/70...  Training Step: 4150...  Training loss: 1.3429...  0.1079 sec/batch\n",
      "Epoch: 38/70...  Training Step: 4200...  Training loss: 1.3194...  0.0856 sec/batch\n",
      "Epoch: 39/70...  Training Step: 4250...  Training loss: 1.3405...  0.0881 sec/batch\n",
      "Epoch: 39/70...  Training Step: 4300...  Training loss: 1.3193...  0.0873 sec/batch\n",
      "Epoch: 40/70...  Training Step: 4350...  Training loss: 1.2957...  0.0854 sec/batch\n",
      "Epoch: 40/70...  Training Step: 4400...  Training loss: 1.3030...  0.0865 sec/batch\n",
      "Epoch: 41/70...  Training Step: 4450...  Training loss: 1.3195...  0.0879 sec/batch\n",
      "Epoch: 41/70...  Training Step: 4500...  Training loss: 1.2631...  0.0865 sec/batch\n",
      "Epoch: 41/70...  Training Step: 4550...  Training loss: 1.3073...  0.0863 sec/batch\n",
      "Epoch: 42/70...  Training Step: 4600...  Training loss: 1.2938...  0.0848 sec/batch\n",
      "Epoch: 42/70...  Training Step: 4650...  Training loss: 1.3130...  0.0861 sec/batch\n",
      "Epoch: 43/70...  Training Step: 4700...  Training loss: 1.3068...  0.0858 sec/batch\n",
      "Epoch: 43/70...  Training Step: 4750...  Training loss: 1.3195...  0.0849 sec/batch\n",
      "Epoch: 44/70...  Training Step: 4800...  Training loss: 1.3010...  0.0853 sec/batch\n",
      "Epoch: 44/70...  Training Step: 4850...  Training loss: 1.2704...  0.0846 sec/batch\n",
      "Epoch: 45/70...  Training Step: 4900...  Training loss: 1.2653...  0.0845 sec/batch\n"
     ]
    },
    {
     "name": "stdout",
     "output_type": "stream",
     "text": [
      "Epoch: 45/70...  Training Step: 4950...  Training loss: 1.2459...  0.0849 sec/batch\n",
      "Epoch: 46/70...  Training Step: 5000...  Training loss: 1.2644...  0.0854 sec/batch\n",
      "Epoch: 46/70...  Training Step: 5050...  Training loss: 1.2725...  0.1098 sec/batch\n",
      "Epoch: 46/70...  Training Step: 5100...  Training loss: 1.2837...  0.0861 sec/batch\n",
      "Epoch: 47/70...  Training Step: 5150...  Training loss: 1.2707...  0.0850 sec/batch\n",
      "Epoch: 47/70...  Training Step: 5200...  Training loss: 1.2625...  0.0864 sec/batch\n",
      "Epoch: 48/70...  Training Step: 5250...  Training loss: 1.2805...  0.0859 sec/batch\n",
      "Epoch: 48/70...  Training Step: 5300...  Training loss: 1.2573...  0.0844 sec/batch\n",
      "Epoch: 49/70...  Training Step: 5350...  Training loss: 1.2609...  0.0853 sec/batch\n",
      "Epoch: 49/70...  Training Step: 5400...  Training loss: 1.2502...  0.1016 sec/batch\n",
      "Epoch: 50/70...  Training Step: 5450...  Training loss: 1.2449...  0.0901 sec/batch\n",
      "Epoch: 50/70...  Training Step: 5500...  Training loss: 1.2394...  0.0862 sec/batch\n",
      "Epoch: 50/70...  Training Step: 5550...  Training loss: 1.3370...  0.0850 sec/batch\n",
      "Epoch: 51/70...  Training Step: 5600...  Training loss: 1.2957...  0.0873 sec/batch\n",
      "Epoch: 51/70...  Training Step: 5650...  Training loss: 1.2480...  0.0863 sec/batch\n",
      "Epoch: 52/70...  Training Step: 5700...  Training loss: 1.2189...  0.0843 sec/batch\n",
      "Epoch: 52/70...  Training Step: 5750...  Training loss: 1.2422...  0.0864 sec/batch\n",
      "Epoch: 53/70...  Training Step: 5800...  Training loss: 1.2580...  0.0857 sec/batch\n",
      "Epoch: 53/70...  Training Step: 5850...  Training loss: 1.2485...  0.0843 sec/batch\n",
      "Epoch: 54/70...  Training Step: 5900...  Training loss: 1.2393...  0.0844 sec/batch\n",
      "Epoch: 54/70...  Training Step: 5950...  Training loss: 1.2625...  0.0855 sec/batch\n",
      "Epoch: 55/70...  Training Step: 6000...  Training loss: 1.2369...  0.0866 sec/batch\n",
      "Epoch: 55/70...  Training Step: 6050...  Training loss: 1.2629...  0.0843 sec/batch\n",
      "Epoch: 55/70...  Training Step: 6100...  Training loss: 1.2549...  0.0863 sec/batch\n",
      "Epoch: 56/70...  Training Step: 6150...  Training loss: 1.2130...  0.0861 sec/batch\n",
      "Epoch: 56/70...  Training Step: 6200...  Training loss: 1.2382...  0.0863 sec/batch\n",
      "Epoch: 57/70...  Training Step: 6250...  Training loss: 1.2563...  0.0864 sec/batch\n",
      "Epoch: 57/70...  Training Step: 6300...  Training loss: 1.2098...  0.0866 sec/batch\n",
      "Epoch: 58/70...  Training Step: 6350...  Training loss: 1.2401...  0.0871 sec/batch\n",
      "Epoch: 58/70...  Training Step: 6400...  Training loss: 1.2235...  0.0851 sec/batch\n",
      "Epoch: 59/70...  Training Step: 6450...  Training loss: 1.2285...  0.0877 sec/batch\n",
      "Epoch: 59/70...  Training Step: 6500...  Training loss: 1.2422...  0.0850 sec/batch\n",
      "Epoch: 60/70...  Training Step: 6550...  Training loss: 1.2980...  0.0857 sec/batch\n",
      "Epoch: 60/70...  Training Step: 6600...  Training loss: 1.2174...  0.0853 sec/batch\n",
      "Epoch: 60/70...  Training Step: 6650...  Training loss: 1.2185...  0.0859 sec/batch\n",
      "Epoch: 61/70...  Training Step: 6700...  Training loss: 1.1987...  0.0857 sec/batch\n",
      "Epoch: 61/70...  Training Step: 6750...  Training loss: 1.2226...  0.0858 sec/batch\n",
      "Epoch: 62/70...  Training Step: 6800...  Training loss: 1.2014...  0.0882 sec/batch\n",
      "Epoch: 62/70...  Training Step: 6850...  Training loss: 1.2155...  0.0862 sec/batch\n",
      "Epoch: 63/70...  Training Step: 6900...  Training loss: 1.2123...  0.0867 sec/batch\n",
      "Epoch: 63/70...  Training Step: 6950...  Training loss: 1.2140...  0.0872 sec/batch\n",
      "Epoch: 64/70...  Training Step: 7000...  Training loss: 1.1872...  0.0853 sec/batch\n",
      "Epoch: 64/70...  Training Step: 7050...  Training loss: 1.1805...  0.0858 sec/batch\n",
      "Epoch: 64/70...  Training Step: 7100...  Training loss: 1.2322...  0.0855 sec/batch\n",
      "Epoch: 65/70...  Training Step: 7150...  Training loss: 1.1837...  0.0852 sec/batch\n",
      "Epoch: 65/70...  Training Step: 7200...  Training loss: 1.1779...  0.0842 sec/batch\n",
      "Epoch: 66/70...  Training Step: 7250...  Training loss: 1.2047...  0.0866 sec/batch\n",
      "Epoch: 66/70...  Training Step: 7300...  Training loss: 1.1827...  0.0871 sec/batch\n",
      "Epoch: 67/70...  Training Step: 7350...  Training loss: 1.1701...  0.0852 sec/batch\n",
      "Epoch: 67/70...  Training Step: 7400...  Training loss: 1.2115...  0.0843 sec/batch\n",
      "Epoch: 68/70...  Training Step: 7450...  Training loss: 1.1950...  0.0864 sec/batch\n",
      "Epoch: 68/70...  Training Step: 7500...  Training loss: 1.1569...  0.0865 sec/batch\n",
      "Epoch: 69/70...  Training Step: 7550...  Training loss: 1.2037...  0.0849 sec/batch\n",
      "Epoch: 69/70...  Training Step: 7600...  Training loss: 1.2113...  0.0927 sec/batch\n",
      "Epoch: 69/70...  Training Step: 7650...  Training loss: 1.1680...  0.0866 sec/batch\n",
      "Epoch: 70/70...  Training Step: 7700...  Training loss: 1.1800...  0.0871 sec/batch\n",
      "Epoch: 70/70...  Training Step: 7750...  Training loss: 1.2034...  0.0870 sec/batch\n"
     ]
    }
   ],
   "source": [
    "loss_list = []\n",
    "epochs = 70\n",
    "# Print losses every N interations\n",
    "print_every_n = 50\n",
    "\n",
    "# Save every N iterations\n",
    "save_every_n = 200\n",
    "\n",
    "model = CharRNN(len(vocab), batch_size=batch_size, num_steps=num_steps,\n",
    "                lstm_size=lstm_size, num_layers=num_layers, \n",
    "                learning_rate=learning_rate)\n",
    "\n",
    "saver = tf.train.Saver(max_to_keep=100)\n",
    "with tf.Session() as sess:\n",
    "    sess.run(tf.global_variables_initializer())\n",
    "    \n",
    "    # Use the line below to load a checkpoint and resume training\n",
    "    #saver.restore(sess, 'checkpoints/______.ckpt')\n",
    "    counter = 0\n",
    "    for e in range(epochs):\n",
    "        # Train network\n",
    "        new_state = sess.run(model.initial_state)\n",
    "        loss = 0\n",
    "        for x, y in get_batches(encoded, batch_size, num_steps):\n",
    "            counter += 1\n",
    "            start = time.time()\n",
    "            feed = {model.inputs: x,\n",
    "                    model.targets: y,\n",
    "                    model.keep_prob: keep_prob,\n",
    "                    model.initial_state: new_state}\n",
    "            batch_loss, new_state, _ = sess.run([model.loss, \n",
    "                                                 model.final_state, \n",
    "                                                 model.optimizer], \n",
    "                                                 feed_dict=feed)\n",
    "            loss_list.append(batch_loss)\n",
    "            if (counter % print_every_n == 0):\n",
    "                end = time.time()\n",
    "                print('Epoch: {}/{}... '.format(e+1, epochs),\n",
    "                      'Training Step: {}... '.format(counter),\n",
    "                      'Training loss: {:.4f}... '.format(batch_loss),\n",
    "                      '{:.4f} sec/batch'.format((end-start)))\n",
    "        \n",
    "            if (counter % save_every_n == 0):\n",
    "                saver.save(sess, \"checkpoints/i{}_l{}.ckpt\".format(counter, lstm_size))\n",
    "    \n",
    "    saver.save(sess, \"checkpoints/i{}_l{}.ckpt\".format(counter, lstm_size))"
   ]
  },
  {
   "cell_type": "code",
   "execution_count": 95,
   "metadata": {},
   "outputs": [
    {
     "data": {
      "image/png": "[encoded data removed]",
      "text/plain": [
       "<Figure size 432x288 with 1 Axes>"
      ]
     },
     "metadata": {},
     "output_type": "display_data"
    }
   ],
   "source": [
    "import matplotlib.pyplot as plt\n",
    "%matplotlib inline\n",
    "plt.plot(loss_list)\n",
    "plt.title('training loss vs number of batches')\n",
    "plt.ylabel('training loss')\n",
    "plt.xlabel('batches')\n",
    "plt.show()"
   ]
  },
  {
   "cell_type": "markdown",
   "metadata": {},
   "source": [
    "#### Saved checkpoints\n",
    "\n",
    "Read up on saving and loading checkpoints here: https://www.tensorflow.org/programmers_guide/variables"
   ]
  },
  {
   "cell_type": "markdown",
   "metadata": {},
   "source": [
    "## Sampling\n",
    "\n",
    "Now that the network is trained, we'll can use it to generate new text. The idea is that we pass in a character, then the network will predict the next character. We can use the new one, to predict the next one. And we keep doing this to generate all new text. I also included some functionality to prime the network with some text by passing in a string and building up a state from that.\n",
    "\n",
    "The network gives us predictions for each character. To reduce noise and make things a little less random, I'm going to only choose a new character from the top N most likely characters.\n",
    "\n"
   ]
  },
  {
   "cell_type": "code",
   "execution_count": 96,
   "metadata": {},
   "outputs": [],
   "source": [
    "def pick_top_n(preds, vocab_size, top_n=5):\n",
    "    p = np.squeeze(preds)\n",
    "    p[np.argsort(p)[:-top_n]] = 0\n",
    "    p = p / np.sum(p)\n",
    "    c = np.random.choice(vocab_size, 1, p=p)[0]\n",
    "    return c"
   ]
  },
  {
   "cell_type": "code",
   "execution_count": 97,
   "metadata": {},
   "outputs": [],
   "source": [
    "def sample(checkpoint, n_samples, lstm_size, vocab_size, prime=\"The \"):\n",
    "    samples = [c for c in prime]\n",
    "    model = CharRNN(len(vocab), lstm_size=lstm_size, sampling=True)\n",
    "    saver = tf.train.Saver()\n",
    "    with tf.Session() as sess:\n",
    "        saver.restore(sess, checkpoint)\n",
    "        new_state = sess.run(model.initial_state)\n",
    "        for c in prime:\n",
    "            x = np.zeros((1, 1))\n",
    "            x[0,0] = vocab_to_int[c]\n",
    "            feed = {model.inputs: x,\n",
    "                    model.keep_prob: 1.,\n",
    "                    model.initial_state: new_state}\n",
    "            preds, new_state = sess.run([model.prediction, model.final_state], \n",
    "                                         feed_dict=feed)\n",
    "\n",
    "        c = pick_top_n(preds, len(vocab))\n",
    "        samples.append(int_to_vocab[c])\n",
    "\n",
    "        for i in range(n_samples):\n",
    "            x[0,0] = c\n",
    "            feed = {model.inputs: x,\n",
    "                    model.keep_prob: 1.,\n",
    "                    model.initial_state: new_state}\n",
    "            preds, new_state = sess.run([model.prediction, model.final_state], \n",
    "                                         feed_dict=feed)\n",
    "\n",
    "            c = pick_top_n(preds, len(vocab))\n",
    "            samples.append(int_to_vocab[c])\n",
    "        \n",
    "    return ''.join(samples)"
   ]
  },
  {
   "cell_type": "markdown",
   "metadata": {},
   "source": [
    "Here, pass in the path to a checkpoint and sample from the network."
   ]
  },
  {
   "cell_type": "code",
   "execution_count": 98,
   "metadata": {},
   "outputs": [
    {
     "data": {
      "text/plain": [
       "'checkpoints/i7770_l512.ckpt'"
      ]
     },
     "execution_count": 98,
     "metadata": {},
     "output_type": "execute_result"
    }
   ],
   "source": [
    "tf.train.latest_checkpoint('checkpoints')"
   ]
  },
  {
   "cell_type": "code",
   "execution_count": 99,
   "metadata": {},
   "outputs": [
    {
     "name": "stdout",
     "output_type": "stream",
     "text": [
      "INFO:tensorflow:Restoring parameters from checkpoints/i7770_l512.ckpt\n",
      "All thou hast dare thee so;\n",
      "And which thou say'st the case of their parts to you\n",
      "And shine as he had said in to the sun;\n",
      "And some imposition will have browe,\n",
      "And thou art not as send to say a wall:\n",
      "There is no man shall buse the poor forting\n",
      "But this all those that have a most of you\n",
      "That I have spoke a torch and say at the\n",
      "Asches and hath the power.\n",
      "\n",
      "Provost:\n",
      "Which I am stand. I am trust, then are\n",
      "Teasing of you and serves, she will not be,\n",
      "Which the poor husband shall be continuence\n",
      "Of my son see the servings of the hour.\n",
      "The more is now to stay the prayers are.\n",
      "\n",
      "GLOUCESTER:\n",
      "We have done, bear thee to my son and me\n",
      "On my brave daughter: and I have so married\n",
      "The case, and have a sorrow by the hundred,\n",
      "To have a beart in this so tender done.\n",
      "I say it, by your faith, and when you have\n",
      "And that will speak where he dods speak to thee,\n",
      "That's my distraying.\n",
      "\n",
      "CORIOLANUS:\n",
      "How now, my lord!\n",
      "\n",
      "Second Murderer:\n",
      "She, so I speak, my father, have I denied\n",
      "The plane to me; what now is it with thee?\n",
      "\n",
      "Sh\n"
     ]
    }
   ],
   "source": [
    "checkpoint = tf.train.latest_checkpoint('checkpoints')\n",
    "samp = sample(checkpoint, 1000, lstm_size, len(vocab), prime=\"All\")\n",
    "print(samp)"
   ]
  },
  {
   "cell_type": "code",
   "execution_count": 100,
   "metadata": {},
   "outputs": [
    {
     "name": "stdout",
     "output_type": "stream",
     "text": [
      "INFO:tensorflow:Restoring parameters from checkpoints/i7770_l512.ckpt\n",
      "Lord Capulet!\n",
      "\n",
      "KING LEWIS XI:\n",
      "The shepherd speaks well all, or shorted way,\n",
      "The cause of this care of the provest tongue.\n",
      "Who deness at her and mother there the man?\n",
      "\n",
      "LADY CAPULET:\n",
      "That is a winder side.\n",
      "\n",
      "LEONTES:\n",
      "O, that's no lank,\n",
      "That take the weight of this are woes in sender.\n",
      "\n",
      "KING RICHARD III:\n",
      "It shall please my feeling of the day\n",
      "And said I say; and tell me that thou hadst be so\n",
      "To spright him friends;\n",
      "What thou hast then to stable\n",
      "The sea boy to thy sore, and heaven so stays:\n",
      "This is a sight of me.\n",
      "\n",
      "MARIANA:\n",
      "Thou hast take them all.\n",
      "\n",
      "SEBASTIAN:\n",
      "I hope, she will.\n",
      "\n",
      "COMINIUS:\n",
      "The more I were a whell of any fair\n",
      "Than they are special traitors all as wise.\n",
      "\n",
      "LUCENTIO:\n",
      "Ay, my good lary, to make the dispard.\n",
      "\n",
      "KING RICHARD II:\n",
      "A better troop, they should not creat your brother.\n",
      "\n",
      "LADY ANNE:\n",
      "Thou shalt not have the deadless doom of mercy,\n",
      "Which he is so mine, which I do break a blessed\n",
      "To her heavens but see, where I may strike me but the\n",
      "parties, when he shall shake him and the duke;\n",
      "The prin\n"
     ]
    }
   ],
   "source": [
    "checkpoint = tf.train.latest_checkpoint('checkpoints')\n",
    "samp = sample(checkpoint, 1000, lstm_size, len(vocab), prime=\"Lord\")\n",
    "print(samp)"
   ]
  },
  {
   "cell_type": "code",
   "execution_count": 101,
   "metadata": {},
   "outputs": [
    {
     "name": "stdout",
     "output_type": "stream",
     "text": [
      "INFO:tensorflow:Restoring parameters from checkpoints/i7770_l512.ckpt\n",
      "MENENIUS:\n",
      "To be her subjects: I will brought me with a\n",
      "Benting of me and to seak the fault,\n",
      "And therein they was not to spide again.\n",
      "What who is this?\n",
      "\n",
      "GREMIO:\n",
      "Nirse, sir, we have seen a pallief's patience.\n",
      "\n",
      "GONZALO:\n",
      "That is this track of mine of all this is true.\n",
      "\n",
      "PETRUCHIO:\n",
      "To her than speak; that's too. There is the son:\n",
      "I am as many beating at thy sense.\n",
      "What cause it who to him?\n",
      "\n",
      "LEONTES:\n",
      "He's a mercy:\n",
      "The grief that stand with him. I have done thee.\n",
      "\n",
      "PROSPERO:\n",
      "I well deny to thine and that you can be.\n",
      "\n",
      "KING RICHARD II:\n",
      "And thou wilt live to me and most straight.\n",
      "\n",
      "KING HENRY VI:\n",
      "Ay, but the sea-shaped tears of mercy so.\n",
      "\n",
      "BAPTISTA:\n",
      "The duke is not in stop in this.\n",
      "\n",
      "KING RICHARD II:\n",
      "A poison of that hope to tell my father,\n",
      "To spake my love to serve the self-bed stind\n",
      "In stringing weight, betwixt his portion,\n",
      "As with her blood, the care to hear thy sense,\n",
      "That have been witted and before my best,\n",
      "We are all the provides of the people.\n",
      "The golden sort and stands and seat is disman:\n",
      "But tho\n"
     ]
    }
   ],
   "source": [
    "checkpoint = tf.train.latest_checkpoint('checkpoints')\n",
    "samp = sample(checkpoint, 1000, lstm_size, len(vocab), prime=\"MENE\")\n",
    "print(samp)"
   ]
  },
  {
   "cell_type": "code",
   "execution_count": null,
   "metadata": {},
   "outputs": [],
   "source": []
  }
 ],
 "metadata": {
  "kernelspec": {
   "display_name": "Python 3",
   "language": "python",
   "name": "python3"
  },
  "language_info": {
   "codemirror_mode": {
    "name": "ipython",
    "version": 3
   },
   "file_extension": ".py",
   "mimetype": "text/x-python",
   "name": "python",
   "nbconvert_exporter": "python",
   "pygments_lexer": "ipython3",
   "version": "3.5.2"
  }
 },
 "nbformat": 4,
 "nbformat_minor": 2
}
